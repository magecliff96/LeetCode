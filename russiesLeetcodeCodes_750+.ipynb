{
 "cells": [
  {
   "cell_type": "markdown",
   "metadata": {},
   "source": [
    "# Problem 1160: Find Words That Can Be Formed by Characters (completed) rrr"
   ]
  },
  {
   "cell_type": "code",
   "execution_count": null,
   "metadata": {},
   "outputs": [],
   "source": [
    "## using dictionary to keep track of chars and # of characters \n",
    "### then we check every word and check if the char they use fit the log in dictionary\n",
    "### if not we move on to next word\n",
    "### if yes then we add the len of word to answer\n",
    "class Solution:\n",
    "    def countCharacters(self, words: List[str], chars: str) -> int:\n",
    "        dictionary={}\n",
    "        for i in range(len(chars)):\n",
    "            if chars[i] not in dictionary:\n",
    "                dictionary[chars[i]]=1\n",
    "            else:\n",
    "                dictionary[chars[i]]+=1\n",
    "        \n",
    "        ans=0;temp=0\n",
    "        for i in range(len(words)):\n",
    "            tempDict=dictionary.copy()\n",
    "            for j in range(len(words[i])):\n",
    "                if words[i][j] not in tempDict or tempDict[words[i][j]]==0:\n",
    "                    temp=0\n",
    "                    break\n",
    "                else:\n",
    "                    tempDict[words[i][j]]-=1\n",
    "                    temp+=1\n",
    "            ans+=temp\n",
    "            temp=0\n",
    "                \n",
    "        return ans"
   ]
  }
 ],
 "metadata": {
  "kernelspec": {
   "display_name": "Python 3",
   "language": "python",
   "name": "python3"
  },
  "language_info": {
   "codemirror_mode": {
    "name": "ipython",
    "version": 3
   },
   "file_extension": ".py",
   "mimetype": "text/x-python",
   "name": "python",
   "nbconvert_exporter": "python",
   "pygments_lexer": "ipython3",
   "version": "3.7.4"
  }
 },
 "nbformat": 4,
 "nbformat_minor": 2
}
