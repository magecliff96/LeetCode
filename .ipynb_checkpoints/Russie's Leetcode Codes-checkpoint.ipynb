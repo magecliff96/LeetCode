{
 "cells": [
  {
   "cell_type": "markdown",
   "metadata": {},
   "source": [
    "# Problem 1: Two Sums (completed)"
   ]
  },
  {
   "cell_type": "code",
   "execution_count": 29,
   "metadata": {
    "scrolled": true
   },
   "outputs": [
    {
     "name": "stdout",
     "output_type": "stream",
     "text": [
      "length of nums before removal: 4165\n",
      "length of nums after removal 4165\n",
      "numbers of sets removed from original nums that sums up to target: 0\n",
      "[]\n",
      "target: 7372505844\n"
     ]
    }
   ],
   "source": [
    "import random ### Problem 1: Two Sums\n",
    "### INPUT GENERATOR :D ###\n",
    "length=random.randint(1,10**4)\n",
    "nums=[]\n",
    "for i in range(length):\n",
    "    nums.append(random.randint(1,10**10))\n",
    "### To avoid same values generated ###    \n",
    "set1=set(nums)\n",
    "nums=list(set1)\n",
    "length=len(nums) \n",
    "### To avoid same values generated ###\n",
    "\n",
    "n1=0;n2=0\n",
    "while n1==n2:\n",
    "    [n1,n2]=[random.randint(0,len(nums)-1),random.randint(0,len(nums)-1)]\n",
    "target=nums[n1]+nums[n2]\n",
    "print(f\"length of nums before removal: {len(nums)}\")\n",
    "\n",
    "\n",
    "### To avoid mutiple values adding up to the same target ###\n",
    "counter=0\n",
    "removelist=[]\n",
    "dictionary={}\n",
    "\n",
    "for i in range(len(nums)):\n",
    "#    if target/nums[i]==2:\n",
    "#        removelist.append(i)\n",
    "    dictionary.update({nums[i]:i})\n",
    "    a=target-nums[i]\n",
    "    if a in dictionary.keys(): #and target/nums[i]!=2\n",
    "        counter=counter+1\n",
    "        if counter>1 and i!=dictionary[a]:\n",
    "            removelist.append(dictionary[a])\n",
    "removelist.sort()\n",
    "removelist.reverse() # Sorted them from largest to smallest so index can change without affecting future removal\n",
    "for i in range(len(removelist)):\n",
    "    nums.pop(removelist[i])\n",
    "### To avoid mutiple values adding up to the same target ###\n",
    "\n",
    "\n",
    "print(f\"length of nums after removal {len(nums)}\")\n",
    "print(f\"numbers of sets removed from original nums that sums up to target: {len(removelist)}\")\n",
    "print(removelist)\n",
    "print(f\"target: {target}\")"
   ]
  },
  {
   "cell_type": "code",
   "execution_count": 17,
   "metadata": {},
   "outputs": [
    {
     "name": "stdout",
     "output_type": "stream",
     "text": [
      "car\n",
      "bg\n"
     ]
    }
   ],
   "source": [
    "a={\"car\":\"a\"\n",
    "  , \"bg\":\"a\"}\n",
    "for i in a.keys():\n",
    "    print (i)"
   ]
  },
  {
   "cell_type": "code",
   "execution_count": 30,
   "metadata": {
    "scrolled": true
   },
   "outputs": [
    {
     "name": "stdout",
     "output_type": "stream",
     "text": [
      "[1719, 2802]\n",
      "5991730498 plus 1380775346 equals 7372505844\n"
     ]
    }
   ],
   "source": [
    "dictionary={}\n",
    "results=[]\n",
    "for i in range(len(nums)):\n",
    "    dictionary.update({i:nums[i]})\n",
    "    a=target-nums[i]\n",
    "    keys=list(dictionary.keys())\n",
    "    values=list(dictionary.values())\n",
    "    \n",
    "    if a in dictionary.values():\n",
    "        indexa=i\n",
    "        indexb=keys[values.index(a)]\n",
    "        if indexa!=indexb:\n",
    "            results=[indexa,indexb]\n",
    "            results.sort()\n",
    "            print(results)         \n",
    "x=nums[results[0]]\n",
    "y=nums[results[1]]\n",
    "print(f\"{x} plus {y} equals {x+y}\")"
   ]
  },
  {
   "cell_type": "markdown",
   "metadata": {},
   "source": [
    "# Problem 2: Add Two Numbers (completed)"
   ]
  },
  {
   "cell_type": "code",
   "execution_count": 12,
   "metadata": {},
   "outputs": [],
   "source": [
    "l1=[1,2,3]\n",
    "l2=[3,2,1]"
   ]
  },
  {
   "cell_type": "code",
   "execution_count": 20,
   "metadata": {},
   "outputs": [
    {
     "name": "stdout",
     "output_type": "stream",
     "text": [
      "444\n"
     ]
    }
   ],
   "source": [
    "a=[]\n",
    "b=[]\n",
    "for i in range(len(l1)):\n",
    "    a.append(l1[i]*10**i)\n",
    "for j in range(len(l2)):\n",
    "    b.append(l2[j]*10**j)\n",
    "c=sum(a)+sum(b)\n",
    "print(c)"
   ]
  },
  {
   "cell_type": "code",
   "execution_count": 19,
   "metadata": {},
   "outputs": [
    {
     "name": "stdout",
     "output_type": "stream",
     "text": [
      "[1, 3]\n"
     ]
    }
   ],
   "source": [
    "# Definition for singly-linked list.\n",
    "# class ListNode:\n",
    "#     def __init__(self, val=0, next=None):\n",
    "#         self.val = val\n",
    "#         self.next = next\n",
    "class Solution:\n",
    "    def addTwoNumbers(self, l1: ListNode, l2: ListNode) -> ListNode:\n",
    "        a=0\n",
    "        b=0\n",
    "        c=ListNode()\n",
    "        ctail=c\n",
    "        while l1!=None and l2!=None:\n",
    "            a=(l1.val+l2.val + b)%10\n",
    "            \n",
    "            ctail.next=ListNode(a)\n",
    "            ctail=ctail.next\n",
    "            \n",
    "            b=int(((l1.val+l2.val + b)-a)/10)\n",
    "            \n",
    "            if (l1.next==None and l2.next!=None):\n",
    "                l1.next=ListNode()\n",
    "            elif (l1.next!=None and l2.next==None):\n",
    "                l2.next=ListNode()\n",
    "            elif l1.next==None and l2.next==None and b>0:\n",
    "                l1.next=ListNode()\n",
    "                l2.next=ListNode()\n",
    "\n",
    "            l1=l1.next\n",
    "            l2=l2.next\n",
    "\n",
    "        return c.next"
   ]
  },
  {
   "cell_type": "markdown",
   "metadata": {},
   "source": [
    "# Problem 3: Longest Substring Without Repeat (completed)"
   ]
  },
  {
   "cell_type": "code",
   "execution_count": 1,
   "metadata": {},
   "outputs": [
    {
     "name": "stdout",
     "output_type": "stream",
     "text": [
      "ubercha\n"
     ]
    }
   ],
   "source": [
    "s=\"uberchauge\"\n",
    "s2=s+s[-1]\n",
    "a={}\n",
    "b=''\n",
    "c={}\n",
    "for i in range(len(s)):\n",
    "    if s[i] in a.values():\n",
    "        c.update({b:len(b)})\n",
    "        a={}\n",
    "        b=''\n",
    "    a.update({i:s[i]})\n",
    "    b= b + str(s[i])\n",
    "print(max(c,key=c.get))"
   ]
  },
  {
   "cell_type": "code",
   "execution_count": 3,
   "metadata": {},
   "outputs": [
    {
     "name": "stdout",
     "output_type": "stream",
     "text": [
      "8\n"
     ]
    }
   ],
   "source": [
    "s=\"abcdefgcuio\"\n",
    "a=[]\n",
    "d=[]\n",
    "if len(s)==0:\n",
    "    print(len(s))\n",
    "else:\n",
    "    for i in range(len(s)):\n",
    "        a.append(s[i])\n",
    "        b=a\n",
    "        c=set(a)\n",
    "        if len(b)-len(c)>0:\n",
    "            a.remove(a[0])\n",
    "        else:\n",
    "            d.append(len(b))\n",
    "    print(max(d))"
   ]
  },
  {
   "cell_type": "markdown",
   "metadata": {},
   "source": [
    "# Problem 7: Reverse Interger (completed)"
   ]
  },
  {
   "cell_type": "code",
   "execution_count": 2,
   "metadata": {},
   "outputs": [
    {
     "name": "stdout",
     "output_type": "stream",
     "text": [
      "231\n"
     ]
    }
   ],
   "source": [
    "x=132\n",
    "a=str(x)\n",
    "b=[]\n",
    "if x<0:\n",
    "    for i in range(len(a)-1):\n",
    "        e=int(a[i+1])\n",
    "        b.append(e*10**i)\n",
    "        c=-sum(b)\n",
    "else:\n",
    "    for i in range(len(a)):\n",
    "        e=int(a[i])\n",
    "        b.append(e*10**i)\n",
    "        c=sum(b)\n",
    "if c<-2147483648 or c>2147483647:\n",
    "    c=0\n",
    "print(c)"
   ]
  },
  {
   "cell_type": "markdown",
   "metadata": {},
   "source": [
    "# Problem 8: String to Integer (atoi) (completed)"
   ]
  },
  {
   "cell_type": "code",
   "execution_count": 104,
   "metadata": {},
   "outputs": [
    {
     "name": "stdout",
     "output_type": "stream",
     "text": [
      "0\n",
      "-   234\n"
     ]
    }
   ],
   "source": [
    "\n",
    "def isint(a):\n",
    "    try:\n",
    "        int(a)\n",
    "        return True\n",
    "    except:\n",
    "        return False\n",
    "\n",
    "def listnum(a):\n",
    "    c=0\n",
    "    if a[0]=='-':\n",
    "        for j in range(len(a)-1):\n",
    "            c=c+(int(a[j+1])*10**(len(a)-1-j-1))\n",
    "        c=-c\n",
    "        if c< -(2**31):\n",
    "            c=-(2**31)\n",
    "    else:\n",
    "        for j in range(len(a)):\n",
    "            c=c+(int(a[j])*10**(len(a)-j-1))\n",
    "        if c> (2**31)-1:\n",
    "            c=(2**31)-1\n",
    "    return c\n",
    "################################################\n",
    "s='    -   234'\n",
    "s=s.strip()\n",
    "a=[]\n",
    "tgint=0\n",
    "tgmin=0\n",
    "tgplus=0\n",
    "tgdot=0\n",
    "error=0\n",
    "for i in range(len(s)):\n",
    "    if isint(s[i]):\n",
    "        tgint=1\n",
    "        if (tgmin+tgplus)<=1 and tgdot==0:\n",
    "            a.append(s[i])\n",
    "    elif s[i]=='-' or s[i]=='+' or s[i]=='.':\n",
    "        if s[i]=='-':\n",
    "            if tgint!=0:\n",
    "                tgmin=tgmin+2\n",
    "            else:\n",
    "                tgmin=tgmin+1\n",
    "        elif s[i]==\"+\":\n",
    "            if tgint!=0:\n",
    "                tgplus=tgplus+2\n",
    "            else:\n",
    "                tgplus=tgplus+1\n",
    "        elif s[i]=='.':\n",
    "            tgdot=1\n",
    "        try:\n",
    "            int(s[i+1])\n",
    "            if s[i]=='-' and (tgmin+tgplus)<=1 and tgint==0:\n",
    "                a.append(s[i])\n",
    "        except:\n",
    "            pass\n",
    "    elif tgint==0 and (tgmin+tgplus)==0 and s[i]!=' ':\n",
    "        error=1\n",
    "    else:\n",
    "        tgdot=1\n",
    "if len(a)==0 or error==1:\n",
    "    print(0)\n",
    "elif error==0: \n",
    "    print(listnum(a))\n",
    "print(s)"
   ]
  },
  {
   "cell_type": "markdown",
   "metadata": {},
   "source": [
    "# Problem 13: Roman to Integer"
   ]
  },
  {
   "cell_type": "code",
   "execution_count": 6,
   "metadata": {},
   "outputs": [
    {
     "name": "stdout",
     "output_type": "stream",
     "text": [
      "C\n",
      "C\n",
      "C\n",
      "X\n",
      "L\n",
      "I\n",
      "I\n"
     ]
    }
   ],
   "source": [
    "s=\"CCCXLII\"\n",
    "ans=342\n",
    "a={'I':1,'V':5,'X':10,'L':50,'C':100,'D':500,'M':1000}\n",
    "for i in range(len(s)):\n",
    "    print(s[i])"
   ]
  },
  {
   "cell_type": "code",
   "execution_count": null,
   "metadata": {},
   "outputs": [],
   "source": []
  }
 ],
 "metadata": {
  "kernelspec": {
   "display_name": "Python 3",
   "language": "python",
   "name": "python3"
  },
  "language_info": {
   "codemirror_mode": {
    "name": "ipython",
    "version": 3
   },
   "file_extension": ".py",
   "mimetype": "text/x-python",
   "name": "python",
   "nbconvert_exporter": "python",
   "pygments_lexer": "ipython3",
   "version": "3.7.4"
  }
 },
 "nbformat": 4,
 "nbformat_minor": 2
}
