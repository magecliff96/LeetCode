{
 "cells": [
  {
   "cell_type": "markdown",
   "metadata": {},
   "source": [
    "# Problem 1: Two Sums"
   ]
  },
  {
   "cell_type": "code",
   "execution_count": 2,
   "metadata": {},
   "outputs": [],
   "source": [
    "import random ### Problem 1: Two Sums"
   ]
  },
  {
   "cell_type": "code",
   "execution_count": 146,
   "metadata": {
    "scrolled": true
   },
   "outputs": [
    {
     "name": "stdout",
     "output_type": "stream",
     "text": [
      "length of nums before removal: 4\n",
      "length of nums after removal 4\n",
      "numbers of sets removed from original nums that sums up to target: 0\n",
      "[]\n",
      "target: 9\n"
     ]
    }
   ],
   "source": [
    "### INPUT GENERATOR :D ###\n",
    "length=random.randint(1,10**5)\n",
    "nums=[]\n",
    "for i in range(length):\n",
    "    nums.append(random.randint(1,10**10))\n",
    "### To avoid same values generated ###    \n",
    "#set1=set(nums)\n",
    "#nums=list(set1)\n",
    "#length=len(nums) \n",
    "### To avoid same values generated ###\n",
    "nums=[2,7,11,15]\n",
    "\n",
    "n1=0;n2=0\n",
    "while n1==n2:\n",
    "    [n1,n2]=[random.randint(0,len(nums)-1),random.randint(0,len(nums)-1)]\n",
    "target=nums[n1]+nums[n2]\n",
    "print(f\"length of nums before removal: {len(nums)}\")\n",
    "target=9\n",
    "\n",
    "### To avoid mutiple values adding up to the same target ###\n",
    "counter=0\n",
    "removelist=[]\n",
    "dictionary={}\n",
    "\n",
    "for i in range(len(nums)):\n",
    "#    if target/nums[i]==2:\n",
    "#        removelist.append(i)\n",
    "    dictionary.update({nums[i]:i})\n",
    "    a=target-nums[i]\n",
    "    if a in dictionary.keys(): #and target/nums[i]!=2\n",
    "        counter=counter+1\n",
    "        if counter>1 and i!=dictionary[a]:\n",
    "            removelist.append(dictionary[a])\n",
    "removelist.sort()\n",
    "removelist.reverse() # Sorted them from largest to smallest so index can change without affecting future removal\n",
    "for i in range(len(removelist)):\n",
    "    nums.pop(removelist[i])\n",
    "### To avoid mutiple values adding up to the same target ###\n",
    "\n",
    "\n",
    "print(f\"length of nums after removal {len(nums)}\")\n",
    "print(f\"numbers of sets removed from original nums that sums up to target: {len(removelist)}\")\n",
    "print(removelist)\n",
    "print(f\"target: {target}\")"
   ]
  },
  {
   "cell_type": "code",
   "execution_count": 147,
   "metadata": {
    "scrolled": true
   },
   "outputs": [
    {
     "name": "stdout",
     "output_type": "stream",
     "text": [
      "[0, 1]\n",
      "2 plus 7 equals 9\n"
     ]
    }
   ],
   "source": [
    "dictionary={}\n",
    "results=[]\n",
    "for i in range(len(nums)):\n",
    "    dictionary.update({i:nums[i]})\n",
    "    a=target-nums[i]\n",
    "    keys=list(dictionary.keys())\n",
    "    values=list(dictionary.values())\n",
    "    \n",
    "    if a in dictionary.values():\n",
    "        indexa=i\n",
    "        indexb=keys[values.index(a)]\n",
    "        if indexa!=indexb:\n",
    "            results=[indexa,indexb]\n",
    "            results.sort()\n",
    "            print(results)         \n",
    "x=nums[results[0]]\n",
    "y=nums[results[1]]\n",
    "print(f\"{x} plus {y} equals {x+y}\")"
   ]
  },
  {
   "cell_type": "markdown",
   "metadata": {},
   "source": [
    "# Problem 2: Add Two Numbers"
   ]
  },
  {
   "cell_type": "code",
   "execution_count": 12,
   "metadata": {},
   "outputs": [],
   "source": [
    "l1=[1,2,3]\n",
    "l2=[3,2,1]"
   ]
  },
  {
   "cell_type": "code",
   "execution_count": 20,
   "metadata": {},
   "outputs": [
    {
     "name": "stdout",
     "output_type": "stream",
     "text": [
      "444\n"
     ]
    }
   ],
   "source": [
    "a=[]\n",
    "b=[]\n",
    "for i in range(len(l1)):\n",
    "    a.append(l1[i]*10**i)\n",
    "for j in range(len(l2)):\n",
    "    b.append(l2[j]*10**j)\n",
    "c=sum(a)+sum(b)\n",
    "print(c)"
   ]
  },
  {
   "cell_type": "markdown",
   "metadata": {},
   "source": [
    "# Problem 7: Reverse Interger"
   ]
  },
  {
   "cell_type": "code",
   "execution_count": 35,
   "metadata": {},
   "outputs": [
    {
     "name": "stdout",
     "output_type": "stream",
     "text": [
      "231\n"
     ]
    }
   ],
   "source": [
    "x=132\n",
    "a=str(x)\n",
    "b=[]\n",
    "if x<0:\n",
    "    for i in range(len(a)-1):\n",
    "        e=int(a[i+1])\n",
    "        b.append(e*10**i)\n",
    "        c=-sum(b)\n",
    "else:\n",
    "    for i in range(len(a)):\n",
    "        e=int(a[i])\n",
    "        b.append(e*10**i)\n",
    "        c=sum(b)\n",
    "if c<-2147483648 or c>2147483647:\n",
    "    c=0\n",
    "print(c)"
   ]
  },
  {
   "cell_type": "code",
   "execution_count": null,
   "metadata": {},
   "outputs": [],
   "source": []
  },
  {
   "cell_type": "code",
   "execution_count": null,
   "metadata": {},
   "outputs": [],
   "source": []
  }
 ],
 "metadata": {
  "kernelspec": {
   "display_name": "Python 3",
   "language": "python",
   "name": "python3"
  },
  "language_info": {
   "codemirror_mode": {
    "name": "ipython",
    "version": 3
   },
   "file_extension": ".py",
   "mimetype": "text/x-python",
   "name": "python",
   "nbconvert_exporter": "python",
   "pygments_lexer": "ipython3",
   "version": "3.7.4"
  }
 },
 "nbformat": 4,
 "nbformat_minor": 2
}
