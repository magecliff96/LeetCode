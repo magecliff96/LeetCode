{
 "cells": [
  {
   "cell_type": "markdown",
   "metadata": {},
   "source": [
    "# Problem 1: Two Sums (completed) x"
   ]
  },
  {
   "cell_type": "code",
   "execution_count": 29,
   "metadata": {
    "scrolled": true
   },
   "outputs": [
    {
     "name": "stdout",
     "output_type": "stream",
     "text": [
      "length of nums before removal: 4165\n",
      "length of nums after removal 4165\n",
      "numbers of sets removed from original nums that sums up to target: 0\n",
      "[]\n",
      "target: 7372505844\n"
     ]
    }
   ],
   "source": [
    "import random ### Problem 1: Two Sums\n",
    "### INPUT GENERATOR :D ###\n",
    "length=random.randint(1,10**4)\n",
    "nums=[]\n",
    "for i in range(length):\n",
    "    nums.append(random.randint(1,10**10))\n",
    "### To avoid same values generated ###    \n",
    "set1=set(nums)\n",
    "nums=list(set1)\n",
    "length=len(nums) \n",
    "### To avoid same values generated ###\n",
    "\n",
    "n1=0;n2=0\n",
    "while n1==n2:\n",
    "    [n1,n2]=[random.randint(0,len(nums)-1),random.randint(0,len(nums)-1)]\n",
    "target=nums[n1]+nums[n2]\n",
    "print(f\"length of nums before removal: {len(nums)}\")\n",
    "\n",
    "\n",
    "### To avoid mutiple values adding up to the same target ###\n",
    "counter=0\n",
    "removelist=[]\n",
    "dictionary={}\n",
    "\n",
    "for i in range(len(nums)):\n",
    "#    if target/nums[i]==2:\n",
    "#        removelist.append(i)\n",
    "    dictionary.update({nums[i]:i})\n",
    "    a=target-nums[i]\n",
    "    if a in dictionary.keys(): #and target/nums[i]!=2\n",
    "        counter=counter+1\n",
    "        if counter>1 and i!=dictionary[a]:\n",
    "            removelist.append(dictionary[a])\n",
    "removelist.sort()\n",
    "removelist.reverse() # Sorted them from largest to smallest so index can change without affecting future removal\n",
    "for i in range(len(removelist)):\n",
    "    nums.pop(removelist[i])\n",
    "### To avoid mutiple values adding up to the same target ###\n",
    "\n",
    "\n",
    "print(f\"length of nums after removal {len(nums)}\")\n",
    "print(f\"numbers of sets removed from original nums that sums up to target: {len(removelist)}\")\n",
    "print(removelist)\n",
    "print(f\"target: {target}\")"
   ]
  },
  {
   "cell_type": "code",
   "execution_count": 17,
   "metadata": {},
   "outputs": [
    {
     "name": "stdout",
     "output_type": "stream",
     "text": [
      "car\n",
      "bg\n"
     ]
    }
   ],
   "source": [
    "a={\"car\":\"a\"\n",
    "  , \"bg\":\"a\"}\n",
    "for i in a.keys():\n",
    "    print (i)"
   ]
  },
  {
   "cell_type": "code",
   "execution_count": 30,
   "metadata": {
    "scrolled": true
   },
   "outputs": [
    {
     "name": "stdout",
     "output_type": "stream",
     "text": [
      "[1719, 2802]\n",
      "5991730498 plus 1380775346 equals 7372505844\n"
     ]
    }
   ],
   "source": [
    "dictionary={}\n",
    "results=[]\n",
    "for i in range(len(nums)):\n",
    "    dictionary.update({i:nums[i]})\n",
    "    a=target-nums[i]\n",
    "    keys=list(dictionary.keys())\n",
    "    values=list(dictionary.values())\n",
    "    \n",
    "    if a in dictionary.values():\n",
    "        indexa=i\n",
    "        indexb=keys[values.index(a)]\n",
    "        if indexa!=indexb:\n",
    "            results=[indexa,indexb]\n",
    "            results.sort()\n",
    "            print(results)         \n",
    "x=nums[results[0]]\n",
    "y=nums[results[1]]\n",
    "print(f\"{x} plus {y} equals {x+y}\")"
   ]
  },
  {
   "cell_type": "markdown",
   "metadata": {},
   "source": [
    "# Problem 2: Add Two Numbers (completed) x"
   ]
  },
  {
   "cell_type": "code",
   "execution_count": 12,
   "metadata": {},
   "outputs": [],
   "source": [
    "l1=[1,2,3]\n",
    "l2=[3,2,1]"
   ]
  },
  {
   "cell_type": "code",
   "execution_count": 20,
   "metadata": {},
   "outputs": [
    {
     "name": "stdout",
     "output_type": "stream",
     "text": [
      "444\n"
     ]
    }
   ],
   "source": [
    "a=[]\n",
    "b=[]\n",
    "for i in range(len(l1)):\n",
    "    a.append(l1[i]*10**i)\n",
    "for j in range(len(l2)):\n",
    "    b.append(l2[j]*10**j)\n",
    "c=sum(a)+sum(b)\n",
    "print(c)"
   ]
  },
  {
   "cell_type": "code",
   "execution_count": 19,
   "metadata": {},
   "outputs": [
    {
     "name": "stdout",
     "output_type": "stream",
     "text": [
      "[1, 3]\n"
     ]
    }
   ],
   "source": [
    "# Definition for singly-linked list.\n",
    "# class ListNode:\n",
    "#     def __init__(self, val=0, next=None):\n",
    "#         self.val = val\n",
    "#         self.next = next\n",
    "\n",
    "class Solution:\n",
    "    def addTwoNumbers(self, l1: ListNode, l2: ListNode) -> ListNode:\n",
    "        a=0\n",
    "        b=0\n",
    "        c=ListNode()\n",
    "        ctail=c\n",
    "        while l1!=None and l2!=None:\n",
    "            a=(l1.val+l2.val + b)%10\n",
    "            \n",
    "            ctail.next=ListNode(a)\n",
    "            ctail=ctail.next\n",
    "            \n",
    "            b=int(((l1.val+l2.val + b)-a)/10)\n",
    "            \n",
    "            if (l1.next==None and l2.next!=None):\n",
    "                l1.next=ListNode()\n",
    "            elif (l1.next!=None and l2.next==None):\n",
    "                l2.next=ListNode()\n",
    "            elif l1.next==None and l2.next==None and b>0:\n",
    "                l1.next=ListNode()\n",
    "                l2.next=ListNode()\n",
    "\n",
    "            l1=l1.next\n",
    "            l2=l2.next\n",
    "\n",
    "        return c.next\n",
    "    #this only applies to this data type and ctail is just a machine that proccess input and c stores the actual linked value\n",
    "    #since ctail set to c it is in its syntax and also the data type where the effects done on ctail is applied onto c\n",
    "    #since normally c.next is pretty much just variable to assign but does not store the link but when indirectly referenced\n",
    "    #c stores the link"
   ]
  },
  {
   "cell_type": "markdown",
   "metadata": {},
   "source": [
    "# Problem 3: Longest Substring Without Repeat (completed) x"
   ]
  },
  {
   "cell_type": "code",
   "execution_count": 1,
   "metadata": {},
   "outputs": [
    {
     "name": "stdout",
     "output_type": "stream",
     "text": [
      "ubercha\n"
     ]
    }
   ],
   "source": [
    "s=\"uberchauge\"\n",
    "s2=s+s[-1]\n",
    "a={}\n",
    "b=''\n",
    "c={}\n",
    "for i in range(len(s)):\n",
    "    if s[i] in a.values():\n",
    "        c.update({b:len(b)})\n",
    "        a={}\n",
    "        b=''\n",
    "    a.update({i:s[i]})\n",
    "    b= b + str(s[i])\n",
    "print(max(c,key=c.get))"
   ]
  },
  {
   "cell_type": "code",
   "execution_count": 3,
   "metadata": {},
   "outputs": [
    {
     "name": "stdout",
     "output_type": "stream",
     "text": [
      "8\n"
     ]
    }
   ],
   "source": [
    "s=\"abcdefgcuio\"\n",
    "a=[]\n",
    "d=[]\n",
    "if len(s)==0:\n",
    "    print(len(s))\n",
    "else:\n",
    "    for i in range(len(s)):\n",
    "        a.append(s[i])\n",
    "        b=a\n",
    "        c=set(a)\n",
    "        if len(b)-len(c)>0:\n",
    "            a.remove(a[0])\n",
    "        else:\n",
    "            d.append(len(b))\n",
    "    print(max(d))"
   ]
  },
  {
   "cell_type": "markdown",
   "metadata": {},
   "source": [
    "# Problem 4: Median of Two Sorted Arrays (complete?)"
   ]
  },
  {
   "cell_type": "code",
   "execution_count": 1,
   "metadata": {},
   "outputs": [
    {
     "name": "stdout",
     "output_type": "stream",
     "text": [
      "b\n",
      "[1, 2, 3, 4, 5, 6, 12, 34, 55, 56, 78, 97, 564, 2342, 3553, 45353] 44.5 16\n"
     ]
    }
   ],
   "source": [
    "nums1 = [1,2,55,78,97,34,564,2342,45353]; nums2 = [3,4,5,6,12,56,3553]\n",
    "nums3=nums1+nums2\n",
    "nums3.sort() #=>two for loop (n3)log(n3)\n",
    "n3len=len(nums3)\n",
    "if n3len%2==1:\n",
    "    ans=nums3[int(n3len/2-0.5)]\n",
    "    print('a')\n",
    "else:\n",
    "    ans=(nums3[int(n3len/2)]+nums3[int((n3len/2)-1)])/2\n",
    "    print('b')\n",
    "print(nums3,ans,len(nums3))\n",
    "#take numbers from n1 and n2 and compare left and right num and get rid of smaller one until (m+n)/2"
   ]
  },
  {
   "cell_type": "markdown",
   "metadata": {},
   "source": [
    "# Problem 5: Longest Palindromic Substring (complete) x?"
   ]
  },
  {
   "cell_type": "code",
   "execution_count": 6,
   "metadata": {},
   "outputs": [
    {
     "name": "stdout",
     "output_type": "stream",
     "text": [
      "--aaaabbbbbbbbbbccccccccccddddddddddeeeeeeeeeeffffffffffgggggggggghhhhhhhhhhiiiiiiiiiijjjjjjjjjjkkkkkkkkkkllllllllllmmmmmmmmmmnnnnnnnnnnooooooooooppppppppppqqqqqqqqqqrrrrrrrrrrssssssssssttttttttttuuuuuuuuuuvvvvvvvvvvwwwwwwwwwwxxxxxxxxxxyyyyyyyyyyzzzzzzzzzzyyyyyyyyyyxxxxxxxxxxwwwwwwwwwwvvvvvvvvvvuuuuuuuuuuttttttttttssssssssssrrrrrrrrrrqqqqqqqqqqppppppppppoooooooooonnnnnnnnnnmmmmmmmmmmllllllllllkkkkkkkkkkjjjjjjjjjjiiiiiiiiiihhhhhhhhhhggggggggggffffffffffeeeeeeeeeeddddddddddccccccccccbbbbbbbbbbaaaaaaaabbbbbbbbbbccccccccccddddddddddeeeeeeeeeeffffffffffgggggggggghhhhhhhhhhiiiiiiiiiijjjjjjjjjjkkkkkkkkkkllllllllllmmmmmmmmmmnnnnnnnnnnooooooooooppppppppppqqqqqqqqqqrrrrrrrrrrssssssssssttttttttttuuuuuuuuuuvvvvvvvvvvwwwwwwwwwwxxxxxxxxxxyyyyyyyyyyzzzzzzzzzzyyyyyyyyyyxxxxxxxxxxwwwwwwwwwwvvvvvvvvvvuuuuuuuuuuttttttttttssssssssssrrrrrrrrrrqqqqqqqqqqppppppppppoooooooooonnnnnnnnnnmmmmmmmmmmllllllllllkkkkkkkkkkjjjjjjjjjjiiiiiiiiiihhhhhhhhhhggggggggggffffffffffeeeeeeeeeeddddddddddccccccccccbbbbbbbbbbaaaa-- 996\n"
     ]
    }
   ],
   "source": [
    "s=\"aaaabbbbbbbbbbccccccccccddddddddddeeeeeeeeeeffffffffffgggggggggghhhhhhhhhhiiiiiiiiiijjjjjjjjjjkkkkkkkkkkllllllllllmmmmmmmmmmnnnnnnnnnnooooooooooppppppppppqqqqqqqqqqrrrrrrrrrrssssssssssttttttttttuuuuuuuuuuvvvvvvvvvvwwwwwwwwwwxxxxxxxxxxyyyyyyyyyyzzzzzzzzzzyyyyyyyyyyxxxxxxxxxxwwwwwwwwwwvvvvvvvvvvuuuuuuuuuuttttttttttssssssssssrrrrrrrrrrqqqqqqqqqqppppppppppoooooooooonnnnnnnnnnmmmmmmmmmmllllllllllkkkkkkkkkkjjjjjjjjjjiiiiiiiiiihhhhhhhhhhggggggggggffffffffffeeeeeeeeeeddddddddddccccccccccbbbbbbbbbbaaaaaaaabbbbbbbbbbccccccccccddddddddddeeeeeeeeeeffffffffffgggggggggghhhhhhhhhhiiiiiiiiiijjjjjjjjjjkkkkkkkkkkllllllllllmmmmmmmmmmnnnnnnnnnnooooooooooppppppppppqqqqqqqqqqrrrrrrrrrrssssssssssttttttttttuuuuuuuuuuvvvvvvvvvvwwwwwwwwwwxxxxxxxxxxyyyyyyyyyyzzzzzzzzzzyyyyyyyyyyxxxxxxxxxxwwwwwwwwwwvvvvvvvvvvuuuuuuuuuuttttttttttssssssssssrrrrrrrrrrqqqqqqqqqqppppppppppoooooooooonnnnnnnnnnmmmmmmmmmmllllllllllkkkkkkkkkkjjjjjjjjjjiiiiiiiiiihhhhhhhhhhggggggggggffffffffffeeeeeeeeeeddddddddddccccccccccbbbbbbbbbbaaaa\"\n",
    "truans=\"aaaabbbbbbbbbbccccccccccddddddddddeeeeeeeeeeffffffffffgggggggggghhhhhhhhhhiiiiiiiiiijjjjjjjjjjkkkkkkkkkkllllllllllmmmmmmmmmmnnnnnnnnnnooooooooooppppppppppqqqqqqqqqqrrrrrrrrrrssssssssssttttttttttuuuuuuuuuuvvvvvvvvvvwwwwwwwwwwxxxxxxxxxxyyyyyyyyyyzzzzzzzzzzyyyyyyyyyyxxxxxxxxxxwwwwwwwwwwvvvvvvvvvvuuuuuuuuuuttttttttttssssssssssrrrrrrrrrrqqqqqqqqqqppppppppppoooooooooonnnnnnnnnnmmmmmmmmmmllllllllllkkkkkkkkkkjjjjjjjjjjiiiiiiiiiihhhhhhhhhhggggggggggffffffffffeeeeeeeeeeddddddddddccccccccccbbbbbbbbbbaaaaaaaabbbbbbbbbbccccccccccddddddddddeeeeeeeeeeffffffffffgggggggggghhhhhhhhhhiiiiiiiiiijjjjjjjjjjkkkkkkkkkkllllllllllmmmmmmmmmmnnnnnnnnnnooooooooooppppppppppqqqqqqqqqqrrrrrrrrrrssssssssssttttttttttuuuuuuuuuuvvvvvvvvvvwwwwwwwwwwxxxxxxxxxxyyyyyyyyyyzzzzzzzzzzyyyyyyyyyyxxxxxxxxxxwwwwwwwwwwvvvvvvvvvvuuuuuuuuuuttttttttttssssssssssrrrrrrrrrrqqqqqqqqqqppppppppppoooooooooonnnnnnnnnnmmmmmmmmmmllllllllllkkkkkkkkkkjjjjjjjjjjiiiiiiiiiihhhhhhhhhhggggggggggffffffffffeeeeeeeeeeddddddddddccccccccccbbbbbbbbbbaaaa\"\n",
    "def oddseed(s,i,ans,slen):\n",
    "    count=1\n",
    "    downpointer=i ; uppointer=i\n",
    "    while (downpointer>=0) and (uppointer<=slen-1) and s[downpointer]==s[uppointer]:\n",
    "        temp=s[downpointer:uppointer+1]\n",
    "        uppointer=i+count\n",
    "        downpointer=i-count\n",
    "        count+=1\n",
    "\n",
    "    if len(temp)>len(ans):\n",
    "        ans=temp\n",
    "    return ans\n",
    "\n",
    "def evenseed(s,i,ans,slen):\n",
    "    count=0\n",
    "    downpointer=i ; uppointer=i\n",
    "    while (downpointer>=0) and (uppointer<=slen-1) and s[downpointer]==s[uppointer]:\n",
    "        temp=s[downpointer:uppointer+1]\n",
    "        uppointer=i+1+count\n",
    "        downpointer=i-count\n",
    "        count+=1\n",
    "\n",
    "    if len(temp)>len(ans):\n",
    "        ans=temp\n",
    "    return ans\n",
    "\n",
    "\n",
    "slen=len(s)\n",
    "ans=\"\"\n",
    "if slen<2:\n",
    "    ans=s\n",
    "for i in range(slen-1):\n",
    "    ans=oddseed(s,i,ans,slen)\n",
    "    ans=evenseed(s,i,ans,slen)\n",
    "    \n",
    "print('--'+ans+'--',slen) #dynamic programming? #create table => to represent the results?"
   ]
  },
  {
   "cell_type": "markdown",
   "metadata": {},
   "source": [
    "# Problem 7: Reverse Interger (completed) x"
   ]
  },
  {
   "cell_type": "code",
   "execution_count": 2,
   "metadata": {},
   "outputs": [
    {
     "name": "stdout",
     "output_type": "stream",
     "text": [
      "231\n"
     ]
    }
   ],
   "source": [
    "x=132\n",
    "a=str(x)\n",
    "b=[]\n",
    "if x<0:\n",
    "    for i in range(len(a)-1):\n",
    "        e=int(a[i+1])\n",
    "        b.append(e*10**i)\n",
    "        c=-sum(b)\n",
    "else:\n",
    "    for i in range(len(a)):\n",
    "        e=int(a[i])\n",
    "        b.append(e*10**i)\n",
    "        c=sum(b)\n",
    "if c<-2147483648 or c>2147483647:\n",
    "    c=0\n",
    "print(c)"
   ]
  },
  {
   "cell_type": "markdown",
   "metadata": {},
   "source": [
    "# Problem 8: String to Integer (atoi) (completed) x?"
   ]
  },
  {
   "cell_type": "code",
   "execution_count": 110,
   "metadata": {},
   "outputs": [
    {
     "name": "stdout",
     "output_type": "stream",
     "text": [
      "0\n"
     ]
    }
   ],
   "source": [
    "def isint(a):\n",
    "    try:\n",
    "        int(a)\n",
    "        return True\n",
    "    except:\n",
    "        return False\n",
    "\n",
    "def listnum(a):\n",
    "    c=0\n",
    "    if a[0]=='-':\n",
    "        for j in range(len(a)-1):\n",
    "            c=c+(int(a[j+1])*10**(len(a)-1-j-1))\n",
    "        c=-c\n",
    "        if c< -(2**31):\n",
    "            c=-(2**31)\n",
    "    else:\n",
    "        for j in range(len(a)):\n",
    "            c=c+(int(a[j])*10**(len(a)-j-1))\n",
    "        if c> (2**31)-1:\n",
    "            c=(2**31)-1\n",
    "    return c\n",
    "################################################\n",
    "s='    -   234'\n",
    "s=s.strip()\n",
    "a=[]\n",
    "tgint=0\n",
    "tgmin=0\n",
    "tgplus=0\n",
    "tgdot=0\n",
    "error=0\n",
    "for i in range(len(s)):\n",
    "    if isint(s[i]):\n",
    "        tgint=1\n",
    "        if (tgmin+tgplus)<=1 and tgdot==0:\n",
    "            a.append(s[i])\n",
    "    elif s[i]=='-' or s[i]=='+' or s[i]=='.':\n",
    "        if s[i]=='-':\n",
    "            if tgint!=0:\n",
    "                tgmin=tgmin+2\n",
    "            else:\n",
    "                tgmin=tgmin+1\n",
    "        elif s[i]==\"+\":\n",
    "            if tgint!=0:\n",
    "                tgplus=tgplus+2\n",
    "            else:\n",
    "                tgplus=tgplus+1\n",
    "        elif s[i]=='.':\n",
    "            tgdot=1\n",
    "        try:\n",
    "            int(s[i+1])\n",
    "            if s[i]=='-' and (tgmin+tgplus)<=1 and tgint==0:\n",
    "                a.append(s[i])\n",
    "        except:\n",
    "            pass\n",
    "    elif tgint==0 and (tgmin+tgplus)==0 and s[i]!=' ':\n",
    "        error=1\n",
    "    else:\n",
    "        tgdot=1\n",
    "if len(a)==0 or error==1:\n",
    "    print(0)\n",
    "elif error==0: \n",
    "    print(listnum(a)) #simplify by removing and editing the original string"
   ]
  },
  {
   "cell_type": "markdown",
   "metadata": {},
   "source": [
    "# Promblem 9: Palindrome Number (completed) x"
   ]
  },
  {
   "cell_type": "code",
   "execution_count": 5,
   "metadata": {},
   "outputs": [
    {
     "name": "stdout",
     "output_type": "stream",
     "text": [
      "True\n"
     ]
    }
   ],
   "source": [
    "x=34543\n",
    "\n",
    "\n",
    "xlen=len(str(x))\n",
    "odd=xlen%2\n",
    "c=0\n",
    "nx=abs(x)\n",
    "\n",
    "halflen=int((xlen-odd)/2)\n",
    "for i in range(halflen):\n",
    "    div=int(nx%10)\n",
    "    c=c*10+div\n",
    "    nx=(nx-div)/10\n",
    "\n",
    "if xlen%2==1:\n",
    "    nx=int((nx-int(nx%10))/10)\n",
    "else:\n",
    "    nx=int(nx)\n",
    "\n",
    "print (c==nx and x>=0)"
   ]
  },
  {
   "cell_type": "markdown",
   "metadata": {},
   "source": [
    "# Problem 10: Regular Expression Matching"
   ]
  },
  {
   "cell_type": "code",
   "execution_count": 29,
   "metadata": {},
   "outputs": [
    {
     "name": "stdout",
     "output_type": "stream",
     "text": [
      "b2\n",
      "a\n",
      "b2\n"
     ]
    },
    {
     "ename": "IndexError",
     "evalue": "string index out of range",
     "output_type": "error",
     "traceback": [
      "\u001b[1;31m---------------------------------------------------------------------------\u001b[0m",
      "\u001b[1;31mIndexError\u001b[0m                                Traceback (most recent call last)",
      "\u001b[1;32m<ipython-input-29-cac5d93a5900>\u001b[0m in \u001b[0;36m<module>\u001b[1;34m\u001b[0m\n\u001b[0;32m      5\u001b[0m \u001b[0ms_a\u001b[0m\u001b[1;33m=\u001b[0m\u001b[1;36m1\u001b[0m\u001b[1;33m\u001b[0m\u001b[1;33m\u001b[0m\u001b[0m\n\u001b[0;32m      6\u001b[0m \u001b[1;32mwhile\u001b[0m \u001b[0mlen\u001b[0m\u001b[1;33m(\u001b[0m\u001b[0ms\u001b[0m\u001b[1;33m)\u001b[0m\u001b[1;33m>\u001b[0m\u001b[1;36m0\u001b[0m \u001b[1;32mand\u001b[0m \u001b[0mlen\u001b[0m\u001b[1;33m(\u001b[0m\u001b[0mp\u001b[0m\u001b[1;33m)\u001b[0m\u001b[1;33m>\u001b[0m\u001b[1;36m0\u001b[0m\u001b[1;33m:\u001b[0m\u001b[1;33m\u001b[0m\u001b[1;33m\u001b[0m\u001b[0m\n\u001b[1;32m----> 7\u001b[1;33m     \u001b[1;32mif\u001b[0m \u001b[0mp\u001b[0m\u001b[1;33m[\u001b[0m\u001b[1;36m1\u001b[0m\u001b[1;33m]\u001b[0m\u001b[1;33m==\u001b[0m\u001b[1;34m'*'\u001b[0m \u001b[1;32mand\u001b[0m \u001b[0mlen\u001b[0m\u001b[1;33m(\u001b[0m\u001b[0ms\u001b[0m\u001b[1;33m)\u001b[0m\u001b[1;33m==\u001b[0m\u001b[1;36m0\u001b[0m\u001b[1;33m:\u001b[0m\u001b[1;33m\u001b[0m\u001b[1;33m\u001b[0m\u001b[0m\n\u001b[0m\u001b[0;32m      8\u001b[0m         \u001b[0mp\u001b[0m\u001b[1;33m=\u001b[0m\u001b[0mp\u001b[0m\u001b[1;33m[\u001b[0m\u001b[1;36m2\u001b[0m\u001b[1;33m:\u001b[0m\u001b[1;33m]\u001b[0m\u001b[1;33m\u001b[0m\u001b[1;33m\u001b[0m\u001b[0m\n\u001b[0;32m      9\u001b[0m         \u001b[1;32mcontinue\u001b[0m\u001b[1;33m\u001b[0m\u001b[1;33m\u001b[0m\u001b[0m\n",
      "\u001b[1;31mIndexError\u001b[0m: string index out of range"
     ]
    }
   ],
   "source": [
    "s=\"a\"\n",
    "p=\".*..a*\"\n",
    "\n",
    "s+=' ';p+=' '\n",
    "s_a=1\n",
    "while True:\n",
    "    try:\n",
    "        if p[1]=='*' and len(s)==0:\n",
    "            p=p[2:]\n",
    "            continue\n",
    "        a=s[0]\n",
    "        a=p[0]\n",
    "    except:\n",
    "        break\n",
    "    if len(p)>=2:\n",
    "        if (s[0]==p[0] or p[0]=='.') and p[1]=='*' and s[0]!=' ':\n",
    "            s=s[1:]\n",
    "            s_a=1\n",
    "            print('a')\n",
    "        elif p[1]=='*':\n",
    "            if p[2]==p[0] or s_a==0:\n",
    "                p=p[3:]\n",
    "                s_a=1\n",
    "                print('b1')\n",
    "            else:\n",
    "                p=p[2:]\n",
    "                s_a=0\n",
    "                print('b2')\n",
    "        elif s[0]==p[0] or p[0]=='.':\n",
    "            s_a=1\n",
    "            s=s[1:]\n",
    "            p=p[1:]\n",
    "            print('c')\n",
    "    else:\n",
    "        if s[0]==p[0] or p[0]=='.':\n",
    "            s=s[1:]\n",
    "            p=p[1:]\n",
    "            print('d')\n",
    "             \n",
    "   \n",
    "s=s.replace(\" \", \"\")\n",
    "p=p.replace(\" \", \"\")\n",
    "ans=s==p\n",
    "print (ans,'_'+s+'_--_'+'_'+p)\n",
    "    "
   ]
  },
  {
   "cell_type": "markdown",
   "metadata": {},
   "source": [
    "# Problem 11: Container With Most Water (completed) x"
   ]
  },
  {
   "cell_type": "code",
   "execution_count": 65,
   "metadata": {},
   "outputs": [
    {
     "name": "stdout",
     "output_type": "stream",
     "text": [
      "49\n"
     ]
    }
   ],
   "source": [
    "height = [1,8,6,2,5,4,8,3,7]\n",
    "finans=16\n",
    "\n",
    "ans=0\n",
    "a=0;b=len(height)-1\n",
    "while a+(len(height)-b)<len(height):\n",
    "    av=height[a];bv=height[b]\n",
    "    temp=min(av,bv)*(b-a)\n",
    "    if av<=bv:\n",
    "        a+=1\n",
    "    elif av>bv:\n",
    "        b-=1\n",
    "    if temp>ans:\n",
    "        ans=temp\n",
    "print(ans)"
   ]
  },
  {
   "cell_type": "markdown",
   "metadata": {},
   "source": [
    "# Problem 12: Interger to Roman (completed) x"
   ]
  },
  {
   "cell_type": "code",
   "execution_count": 9,
   "metadata": {},
   "outputs": [
    {
     "name": "stdout",
     "output_type": "stream",
     "text": [
      "XL\n"
     ]
    }
   ],
   "source": [
    "s=14\n",
    "ans=''\n",
    "log={1:'I',5:'V',10:'X',50:'L',100:'C',500:'D',1000:'M',5000:'LK',10000:'JK'}\n",
    "div=1\n",
    "c=[]\n",
    "ans=''\n",
    "for i in range(len(log.keys())):\n",
    "    \n",
    "    power=10000/div #log.keys()[-i-1] #change 10k to keys?\n",
    "    if i%2==0:\n",
    "        div*=2 #unneccessary\n",
    "    else:\n",
    "        div*=5 #unneccessary\n",
    "\n",
    "    c.append(int((s-s%power)/power))\n",
    "    s=s-c[i]*power\n",
    "    \n",
    "    if c[i]==4:\n",
    "        if c[i-1]==0:\n",
    "            add=log[power]+log[power*5]\n",
    "            ans=ans+add\n",
    "        elif c[i-1]==1:\n",
    "            add=log[power]+log[power*10]\n",
    "            ans=ans[:-1]+add\n",
    "    else:\n",
    "        add=c[i]*log[power]\n",
    "        ans=ans+add\n",
    "        \n",
    "print(ans) #simplify this? #\n",
    "\n"
   ]
  },
  {
   "cell_type": "markdown",
   "metadata": {},
   "source": [
    "# Problem 13: Roman to Integer (completed) x"
   ]
  },
  {
   "cell_type": "code",
   "execution_count": 14,
   "metadata": {},
   "outputs": [
    {
     "name": "stdout",
     "output_type": "stream",
     "text": [
      "[100]\n",
      "[100, 100]\n",
      "[100, 100, 100]\n",
      "[100, 100, 100, 40]\n",
      "[100, 100, 100, 40, 1]\n",
      "[100, 100, 100, 40, 1, 1]\n",
      "342\n"
     ]
    }
   ],
   "source": [
    "s=\"CCCXLII\"\n",
    "ans=342\n",
    "log={'I':1,'V':5,'X':10,'L':50,'C':100,'D':500,'M':1000}\n",
    "c=[]\n",
    "skip=0\n",
    "for i in range(len(s)):\n",
    "    if skip==0:\n",
    "        a=log[s[i]]\n",
    "        try:\n",
    "            b=log[s[i+1]]\n",
    "        except:\n",
    "            b=0\n",
    "        pass\n",
    "        if a<b:\n",
    "            c.append(b-a)\n",
    "            skip=1\n",
    "        else:\n",
    "            c.append(a)\n",
    "        print(c)\n",
    "    else:\n",
    "        skip=0\n",
    "print(sum(c))"
   ]
  },
  {
   "cell_type": "markdown",
   "metadata": {},
   "source": [
    "# Problem 14: Longest Common Prefix (completed) x"
   ]
  },
  {
   "cell_type": "code",
   "execution_count": 42,
   "metadata": {},
   "outputs": [
    {
     "name": "stdout",
     "output_type": "stream",
     "text": [
      "i \n",
      "Program stopped at letter 1, word 0+1 , and the number of input word is 1\n",
      "i \n",
      "Program stopped at letter 1, word 0+1 , and the number of input word is 1\n"
     ]
    }
   ],
   "source": [
    "strs=['i']\n",
    "\n",
    "ans=''\n",
    "s_a=0\n",
    "i=0\n",
    "if len(strs)==0:\n",
    "    s_a=1\n",
    "while s_a==0:\n",
    "    dummy=[]\n",
    "    try:\n",
    "        for j in range(len(strs)):\n",
    "            str_1=strs[j]\n",
    "            dummy.append(str_1[i])\n",
    "            \n",
    "        dummyset=set(dummy)\n",
    "        if len(dummyset)==1:\n",
    "            ans+=str_1[i]\n",
    "        else:\n",
    "            s_a=1\n",
    "        i+=1\n",
    "    except:\n",
    "        s_a=1\n",
    "    print(ans,f\"\\nProgram stopped at letter {i}, word {j}+1 , and the number of input word is {len(strs)}\")\n"
   ]
  },
  {
   "cell_type": "markdown",
   "metadata": {},
   "source": [
    "# Problem 15: 3Sum (completed) x"
   ]
  },
  {
   "cell_type": "code",
   "execution_count": 43,
   "metadata": {},
   "outputs": [
    {
     "name": "stdout",
     "output_type": "stream",
     "text": [
      "[[-1, 0, 1], [-1, -1, 2]]\n"
     ]
    }
   ],
   "source": [
    "## Dictionary Method ### 315 / 318 test cases passed. Status: Time Limit Exceeded\n",
    "nums = [-1,0,1,2,-1,-4]\n",
    "ans=[]\n",
    "dictionary={i:v for (i,v) in zip(range(len(nums)),nums)}\n",
    "keys=list(dictionary.keys()) #seperating the dict key and value but share index\n",
    "values=list(dictionary.values())\n",
    "    \n",
    "for j in range(len(nums)):\n",
    "    target=-nums[j] ## A+B+C=0 B+C=-A=TARGET\n",
    "    for k in range(len(nums)):\n",
    "        a=target-nums[k] #C=(TARGET)-B\n",
    "        if a in dictionary.values():\n",
    "            l=keys[values.index(a)]\n",
    "            if j!=k and j!=l and l!=k:\n",
    "                index=[nums[j],nums[k],nums[l]]\n",
    "                index.sort()\n",
    "                if index not in ans:\n",
    "                    ans.append(index)\n",
    "print(ans) #whats a one pass hash table"
   ]
  },
  {
   "cell_type": "code",
   "execution_count": 51,
   "metadata": {},
   "outputs": [
    {
     "name": "stdout",
     "output_type": "stream",
     "text": [
      "[[-2, -1, 3], [-2, 0, 2], [-1, 0, 1]]\n"
     ]
    }
   ],
   "source": [
    "## Proper mathematical method ## Can be improved if we identify which one we don't actually have to repeat check\n",
    "nums = [3,0,-2,-1,1,2]\n",
    "nums.sort()\n",
    "ans=[]\n",
    "i=0\n",
    "for j in range(len(nums)):\n",
    "    target=-nums[j] ## A+B+C=0 A+B=-C=TARGET\n",
    "    s_a=0\n",
    "    a=j+1;b=len(nums)-1\n",
    "    i=j\n",
    "    while s_a==0:\n",
    "        try:\n",
    "            check=nums[i]\n",
    "            x=nums[a]\n",
    "            y=nums[b]\n",
    "        except:\n",
    "            s_a=1\n",
    "            break\n",
    "        i+=1\n",
    "        if (x+y)> target: ## IF X+Y IS BIGGER, SINCE THE NUMBERS ARE ARRANGED, THE ONLY WAY TO GET THE SUM SMALLER IS TO MOVE Y\n",
    "            b-=1\n",
    "        elif (x+y)< target: ### IF SUM IS SMALLER, SINCE NUMBS ARE ARRANGED, TO GET SUM BIGGER IS TO MOVE X TO BIGGER NUMS\n",
    "            a+=1\n",
    "        else: ## EVENTUALLY IT WILL SCOPE DOWN\n",
    "            if a!=b and b!=j and a!=j:\n",
    "                anstemp=[x,y,-target]\n",
    "                a+=1\n",
    "                anstemp.sort()\n",
    "                if anstemp not in ans:\n",
    "                    ans.append(anstemp)\n",
    "print(ans)"
   ]
  },
  {
   "cell_type": "markdown",
   "metadata": {},
   "source": [
    "# Problem 16: 3Sum Closest "
   ]
  },
  {
   "cell_type": "code",
   "execution_count": 57,
   "metadata": {},
   "outputs": [
    {
     "name": "stdout",
     "output_type": "stream",
     "text": [
      "a\n",
      "b\n",
      "-1\n"
     ]
    }
   ],
   "source": [
    "nums = [-1,2,1,-4];target = 1\n",
    "nums.sort()\n",
    "i=0;ans=0\n",
    "for j in range(len(nums)):\n",
    "    z=nums[j] ## A+B+C=0 A+B=-C=TARGET\n",
    "    s_a=0\n",
    "    a=j+1;b=len(nums)-1\n",
    "    i=j\n",
    "    while s_a==0:\n",
    "        try: ## Check conditions to decide when to discontinue\n",
    "            check=nums[i]\n",
    "            x=nums[a]\n",
    "            y=nums[b]\n",
    "        except:\n",
    "            s_a=1\n",
    "            break\n",
    "        i+=1\n",
    "        \n",
    "        \n",
    "        if (x+y+z)> target: ## IF X+Y IS BIGGER, SINCE THE NUMBERS ARE ARRANGED, THE ONLY WAY TO GET THE SUM SMALLER IS TO MOVE Y\n",
    "            b-=1\n",
    "        elif (x+y+z)< target: ### IF SUM IS SMALLER, SINCE NUMBS ARE ARRANGED, TO GET SUM BIGGER IS TO MOVE X TO BIGGER NUMS\n",
    "            a+=1\n",
    "        if a!=b and b!=j and a!=j:\n",
    "            anstemp=x+y+z-target\n",
    "            a+=1\n",
    "            if i==1:\n",
    "                ans=anstemp\n",
    "                print('a')\n",
    "            elif anstemp**2<ans**2:\n",
    "                ans=anstemp\n",
    "                print('b')\n",
    "print(ans)"
   ]
  },
  {
   "cell_type": "markdown",
   "metadata": {},
   "source": [
    "# Problem 20: Valid Parentheses (complete)"
   ]
  },
  {
   "cell_type": "code",
   "execution_count": null,
   "metadata": {},
   "outputs": [],
   "source": [
    "class Solution: s=[{]}\n",
    "    def isValid(self, s: str) -> bool:\n",
    "        op=['(','[','{']\n",
    "        dictionary={'(':')','[':']','{':'}'}\n",
    "\n",
    "        order=[]\n",
    "        if len(s)<2:\n",
    "            return False\n",
    "        for i in range(len(s)):\n",
    "            temp=s[i]\n",
    "            if temp in op:\n",
    "                order.append(temp)\n",
    "            elif len(order)==0:\n",
    "                return False\n",
    "            elif temp==dictionary[order[-1]]:\n",
    "                order.pop(-1)\n",
    "            else:\n",
    "                return False\n",
    "\n",
    "        if len(order)==0:\n",
    "            return True\n",
    "        else:\n",
    "            return False"
   ]
  },
  {
   "cell_type": "markdown",
   "metadata": {},
   "source": [
    "# Problem 21: Merge Two Sorted Lists (completed)"
   ]
  },
  {
   "cell_type": "code",
   "execution_count": 5,
   "metadata": {},
   "outputs": [],
   "source": [
    "# Definition for singly-linked list.\n",
    "class ListNode:\n",
    "    def __init__(self, val=0, next=None):\n",
    "        self.val = val\n",
    "        self.next = next\n",
    "\n",
    "class Solution:\n",
    "    def mergeTwoLists(self, l1: ListNode, l2: ListNode) -> ListNode:\n",
    "        a=0\n",
    "        c=ListNode()\n",
    "        ctail=c\n",
    "        while l1!=None or l2!=None:\n",
    "            try:\n",
    "                if (l1.val<=l2.val):\n",
    "                    a=l1.val\n",
    "                    l1=l1.next\n",
    "                else:\n",
    "                    a=l2.val\n",
    "                    l2=l2.next\n",
    "            except:\n",
    "                if l2==None:\n",
    "                    a=l1.val\n",
    "                    l1=l1.next\n",
    "                elif l1==None:\n",
    "                    a=l2.val\n",
    "                    l2=l2.next\n",
    "            ctail.next=ListNode(a)\n",
    "            ctail=ctail.next\n",
    "\n",
    "        return c.next\n",
    "        "
   ]
  },
  {
   "cell_type": "markdown",
   "metadata": {},
   "source": [
    "# Problem 26: Remove Duplicates from Sorted Array (completed)"
   ]
  },
  {
   "cell_type": "code",
   "execution_count": 10,
   "metadata": {},
   "outputs": [
    {
     "name": "stdout",
     "output_type": "stream",
     "text": [
      "[1, 2]\n"
     ]
    }
   ],
   "source": [
    "#simple solution that the program wont accept\n",
    "nums=[1,1,2]\n",
    "\n",
    "a=set(nums)\n",
    "a=list(a)\n",
    "print(len(a))"
   ]
  },
  {
   "cell_type": "code",
   "execution_count": null,
   "metadata": {},
   "outputs": [],
   "source": [
    "#slower solution that the program accepts\n",
    "class Solution:\n",
    "    def removeDuplicates(self, nums: List[int]) -> int:\n",
    "        i=0\n",
    "        while True:\n",
    "            if i>=len(nums)-1:\n",
    "                break\n",
    "            elif nums[i]==nums[i+1]:\n",
    "                nums.pop(i+1)\n",
    "            else:\n",
    "                i+=1\n",
    "                \n",
    "        return len(nums)"
   ]
  },
  {
   "cell_type": "markdown",
   "metadata": {},
   "source": [
    "# Problem 27: Remove Element (Completed)"
   ]
  },
  {
   "cell_type": "code",
   "execution_count": 1,
   "metadata": {},
   "outputs": [],
   "source": [
    "##Initial two line solution:\n",
    "class Solution:\n",
    "    def removeElement(self, nums: List[int], val: int) -> int:\n",
    "        while val in nums:\n",
    "            nums.remove(val)\n",
    "        return len(nums)"
   ]
  },
  {
   "cell_type": "code",
   "execution_count": null,
   "metadata": {},
   "outputs": [],
   "source": [
    "#basic function solution\n",
    "class Solution:\n",
    "    def removeElement(self, nums: List[int], val: int) -> int:\n",
    "        i=0\n",
    "        while val in nums:\n",
    "            if nums[i]!=val:\n",
    "                i+=1\n",
    "            else:\n",
    "                nums.pop(i)\n",
    "        return i"
   ]
  },
  {
   "cell_type": "markdown",
   "metadata": {},
   "source": [
    "# Problem 28. Implement strStr() (completed)"
   ]
  },
  {
   "cell_type": "code",
   "execution_count": 11,
   "metadata": {},
   "outputs": [
    {
     "name": "stdout",
     "output_type": "stream",
     "text": [
      "0\n",
      "-1\n"
     ]
    }
   ],
   "source": [
    "haystack='a'\n",
    "needle='a'\n",
    "\n",
    "counter=0\n",
    "neelen=len(needle)\n",
    "haylen=len(haystack)\n",
    "        \n",
    "        \n",
    "if neelen<1:\n",
    "    print(0)\n",
    "elif neelen>haylen:\n",
    "    print(-1)\n",
    "\n",
    "for i in range(haylen-neelen+1):\n",
    "    for j in range(neelen):\n",
    "        if haystack[i+j]==needle[j]:\n",
    "                    counter+=1\n",
    "        else:\n",
    "            counter=0\n",
    "            break\n",
    "        if counter==neelen:\n",
    "            output=i\n",
    "            print(output)\n",
    "print(-1)"
   ]
  },
  {
   "cell_type": "markdown",
   "metadata": {},
   "source": [
    "# Problem 35: Search Insert Position (completed)"
   ]
  },
  {
   "cell_type": "code",
   "execution_count": null,
   "metadata": {},
   "outputs": [],
   "source": [
    "class Solution:\n",
    "    def searchInsert(self, nums: List[int], target: int) -> int:\n",
    "        numlen=len(nums)\n",
    "        for i in range(numlen):\n",
    "            if nums[i]>=target:\n",
    "                return i\n",
    "        return numlen"
   ]
  },
  {
   "cell_type": "markdown",
   "metadata": {},
   "source": [
    "# Problem 167: Two Sum II - Input array is sorted (completed)"
   ]
  },
  {
   "cell_type": "code",
   "execution_count": null,
   "metadata": {},
   "outputs": [],
   "source": [
    "### SOLUTION 1: OLD SOLUTION from TWO SUM I ### DICTIONARY METHOD ###\n",
    "class Solution:\n",
    "    def twoSum(self, nums: List[int], target: int) -> List[int]:\n",
    "        dictionary={} #initiating dictionary\n",
    "        results=[]\n",
    "        for i in range(len(nums)):\n",
    "            dictionary.update({i:nums[i]}) #making dictionary\n",
    "            a=target-nums[i] #finding target value for each number\n",
    "            keys=list(dictionary.keys()) #seperating the dict key and value but share index\n",
    "            values=list(dictionary.values())\n",
    "            \n",
    "            if a in dictionary.values():\n",
    "                indexa=i\n",
    "                indexb=keys[values.index(a)] #obtaining keys based on index for value == a\n",
    "                if indexa!=indexb:\n",
    "                    results=[indexa+1,indexb+1] #assigning results so that it could be sorted\n",
    "                    results.sort() #sorting the result so it follows the same order as expectation\n",
    "                    return results\n"
   ]
  },
  {
   "cell_type": "code",
   "execution_count": 4,
   "metadata": {},
   "outputs": [
    {
     "name": "stdout",
     "output_type": "stream",
     "text": [
      "[1, 2]\n"
     ]
    }
   ],
   "source": [
    "### PROPER SOLUTION ### SORTED APPROACH ###\n",
    "nums= [2,7,11,15]\n",
    "target = 9\n",
    "s_a=0\n",
    "a=0;b=len(nums)-1\n",
    "while s_a==0:\n",
    "    x=nums[a]\n",
    "    y=nums[b]\n",
    "    if x+y> target: ## IF X+Y IS BIGGER, SINCE THE NUMBERS ARE ARRANGED, THE ONLY WAY TO GET THE SUM SMALLER IS TO MOVE Y\n",
    "        b-=1\n",
    "    elif x+y< target: ### IF SUM IS SMALLER, SINCE NUMBS ARE ARRANGED, TO GET SUM BIGGER IS TO MOVE X TO BIGGER NUMS\n",
    "        a+=1\n",
    "    else: ## EVENTUALLY IT WILL SCOPE DOWN\n",
    "        s_a=1\n",
    "        print([a+1,b+1])"
   ]
  },
  {
   "cell_type": "code",
   "execution_count": 1,
   "metadata": {},
   "outputs": [],
   "source": []
  },
  {
   "cell_type": "code",
   "execution_count": null,
   "metadata": {},
   "outputs": [],
   "source": []
  }
 ],
 "metadata": {
  "kernelspec": {
   "display_name": "Python 3",
   "language": "python",
   "name": "python3"
  },
  "language_info": {
   "codemirror_mode": {
    "name": "ipython",
    "version": 3
   },
   "file_extension": ".py",
   "mimetype": "text/x-python",
   "name": "python",
   "nbconvert_exporter": "python",
   "pygments_lexer": "ipython3",
   "version": "3.7.4"
  }
 },
 "nbformat": 4,
 "nbformat_minor": 2
}
