{
 "cells": [
  {
   "cell_type": "markdown",
   "metadata": {},
   "source": [
    "# Problem 1: Two Sums (completed) x"
   ]
  },
  {
   "cell_type": "code",
   "execution_count": 29,
   "metadata": {
    "scrolled": true
   },
   "outputs": [
    {
     "name": "stdout",
     "output_type": "stream",
     "text": [
      "length of nums before removal: 4165\n",
      "length of nums after removal 4165\n",
      "numbers of sets removed from original nums that sums up to target: 0\n",
      "[]\n",
      "target: 7372505844\n"
     ]
    }
   ],
   "source": [
    "import random ### Problem 1: Two Sums\n",
    "### INPUT GENERATOR :D ###\n",
    "length=random.randint(1,10**4)\n",
    "nums=[]\n",
    "for i in range(length):\n",
    "    nums.append(random.randint(1,10**10))\n",
    "### To avoid same values generated ###    \n",
    "set1=set(nums)\n",
    "nums=list(set1)\n",
    "length=len(nums) \n",
    "### To avoid same values generated ###\n",
    "\n",
    "n1=0;n2=0\n",
    "while n1==n2:\n",
    "    [n1,n2]=[random.randint(0,len(nums)-1),random.randint(0,len(nums)-1)]\n",
    "target=nums[n1]+nums[n2]\n",
    "print(f\"length of nums before removal: {len(nums)}\")\n",
    "\n",
    "\n",
    "### To avoid mutiple values adding up to the same target ###\n",
    "counter=0\n",
    "removelist=[]\n",
    "dictionary={}\n",
    "\n",
    "for i in range(len(nums)):\n",
    "#    if target/nums[i]==2:\n",
    "#        removelist.append(i)\n",
    "    dictionary.update({nums[i]:i})\n",
    "    a=target-nums[i]\n",
    "    if a in dictionary.keys(): #and target/nums[i]!=2\n",
    "        counter=counter+1\n",
    "        if counter>1 and i!=dictionary[a]:\n",
    "            removelist.append(dictionary[a])\n",
    "removelist.sort()\n",
    "removelist.reverse() # Sorted them from largest to smallest so index can change without affecting future removal\n",
    "for i in range(len(removelist)):\n",
    "    nums.pop(removelist[i])\n",
    "### To avoid mutiple values adding up to the same target ###\n",
    "\n",
    "\n",
    "print(f\"length of nums after removal {len(nums)}\")\n",
    "print(f\"numbers of sets removed from original nums that sums up to target: {len(removelist)}\")\n",
    "print(removelist)\n",
    "print(f\"target: {target}\")"
   ]
  },
  {
   "cell_type": "code",
   "execution_count": 17,
   "metadata": {},
   "outputs": [
    {
     "name": "stdout",
     "output_type": "stream",
     "text": [
      "car\n",
      "bg\n"
     ]
    }
   ],
   "source": [
    "a={\"car\":\"a\"\n",
    "  , \"bg\":\"a\"}\n",
    "for i in a.keys():\n",
    "    print (i)"
   ]
  },
  {
   "cell_type": "code",
   "execution_count": 30,
   "metadata": {
    "scrolled": true
   },
   "outputs": [
    {
     "name": "stdout",
     "output_type": "stream",
     "text": [
      "[1719, 2802]\n",
      "5991730498 plus 1380775346 equals 7372505844\n"
     ]
    }
   ],
   "source": [
    "#only dictionary and brute force method exist?\n",
    "dictionary={}\n",
    "results=[]\n",
    "for i in range(len(nums)):\n",
    "    dictionary.update({i:nums[i]})\n",
    "    a=target-nums[i]\n",
    "    keys=list(dictionary.keys())\n",
    "    values=list(dictionary.values())\n",
    "    \n",
    "    if a in dictionary.values():\n",
    "        indexa=i\n",
    "        indexb=keys[values.index(a)]\n",
    "        if indexa!=indexb:\n",
    "            results=[indexa,indexb]\n",
    "            results.sort()\n",
    "            print(results)         \n",
    "x=nums[results[0]]\n",
    "y=nums[results[1]]\n",
    "print(f\"{x} plus {y} equals {x+y}\")"
   ]
  },
  {
   "cell_type": "markdown",
   "metadata": {},
   "source": [
    "# Problem 2: Add Two Numbers (completed) x"
   ]
  },
  {
   "cell_type": "code",
   "execution_count": 12,
   "metadata": {},
   "outputs": [],
   "source": [
    "l1=[1,2,3]\n",
    "l2=[3,2,1]"
   ]
  },
  {
   "cell_type": "code",
   "execution_count": 20,
   "metadata": {},
   "outputs": [
    {
     "name": "stdout",
     "output_type": "stream",
     "text": [
      "444\n"
     ]
    }
   ],
   "source": [
    "a=[]\n",
    "b=[]\n",
    "for i in range(len(l1)):\n",
    "    a.append(l1[i]*10**i)\n",
    "for j in range(len(l2)):\n",
    "    b.append(l2[j]*10**j)\n",
    "c=sum(a)+sum(b)\n",
    "print(c)"
   ]
  },
  {
   "cell_type": "code",
   "execution_count": 19,
   "metadata": {},
   "outputs": [
    {
     "name": "stdout",
     "output_type": "stream",
     "text": [
      "[1, 3]\n"
     ]
    }
   ],
   "source": [
    "# Definition for singly-linked list.\n",
    "# class ListNode:\n",
    "#     def __init__(self, val=0, next=None):\n",
    "#         self.val = val\n",
    "#         self.next = next\n",
    "\n",
    "class Solution:\n",
    "    def addTwoNumbers(self, l1: ListNode, l2: ListNode) -> ListNode:\n",
    "        a=0\n",
    "        b=0\n",
    "        c=ListNode()\n",
    "        ctail=c\n",
    "        while l1!=None and l2!=None:\n",
    "            a=(l1.val+l2.val + b)%10\n",
    "            \n",
    "            ctail.next=ListNode(a)\n",
    "            ctail=ctail.next\n",
    "            \n",
    "            b=int(((l1.val+l2.val + b)-a)/10)\n",
    "            \n",
    "            if (l1.next==None and l2.next!=None):\n",
    "                l1.next=ListNode()\n",
    "            elif (l1.next!=None and l2.next==None):\n",
    "                l2.next=ListNode()\n",
    "            elif l1.next==None and l2.next==None and b>0:\n",
    "                l1.next=ListNode()\n",
    "                l2.next=ListNode()\n",
    "\n",
    "            l1=l1.next\n",
    "            l2=l2.next\n",
    "\n",
    "        return c.next\n",
    "    #this only applies to this data type and ctail is just a machine that proccess input and c stores the actual linked value\n",
    "    #since ctail set to c it is in its syntax and also the data type where the effects done on ctail is applied onto c\n",
    "    #since normally c.next is pretty much just variable to assign but does not store the link but when indirectly referenced\n",
    "    #c stores the link"
   ]
  },
  {
   "cell_type": "markdown",
   "metadata": {},
   "source": [
    "# Problem 3: Longest Substring Without Repeat (completed) x"
   ]
  },
  {
   "cell_type": "code",
   "execution_count": 1,
   "metadata": {},
   "outputs": [
    {
     "name": "stdout",
     "output_type": "stream",
     "text": [
      "ubercha\n"
     ]
    }
   ],
   "source": [
    "s=\"uberchauge\"\n",
    "s2=s+s[-1]\n",
    "a={}\n",
    "b=''\n",
    "c={}\n",
    "for i in range(len(s)):\n",
    "    if s[i] in a.values():\n",
    "        c.update({b:len(b)})\n",
    "        a={}\n",
    "        b=''\n",
    "    a.update({i:s[i]})\n",
    "    b= b + str(s[i])\n",
    "print(max(c,key=c.get))"
   ]
  },
  {
   "cell_type": "code",
   "execution_count": 3,
   "metadata": {},
   "outputs": [
    {
     "name": "stdout",
     "output_type": "stream",
     "text": [
      "8\n"
     ]
    }
   ],
   "source": [
    "s=\"abcdefgcuio\"\n",
    "a=[]\n",
    "d=[]\n",
    "if len(s)==0:\n",
    "    print(len(s))\n",
    "else:\n",
    "    for i in range(len(s)):\n",
    "        a.append(s[i])\n",
    "        b=a\n",
    "        c=set(a)\n",
    "        if len(b)-len(c)>0:\n",
    "            a.remove(a[0])\n",
    "        else:\n",
    "            d.append(len(b))\n",
    "    print(max(d))"
   ]
  },
  {
   "cell_type": "markdown",
   "metadata": {},
   "source": [
    "# Problem 4: Median of Two Sorted Arrays (complete)x"
   ]
  },
  {
   "cell_type": "code",
   "execution_count": 9,
   "metadata": {},
   "outputs": [
    {
     "name": "stdout",
     "output_type": "stream",
     "text": [
      "a\n",
      "[1, 2, 3, 23, 412, 423, 432, 932, 3420] 412 9\n"
     ]
    }
   ],
   "source": [
    "nums1 = [1,2,412,423,932,3420]; nums2 = [3,23,432]\n",
    "nums3=nums1+nums2\n",
    "nums3.sort() #=>two for loop (n3)log(n3)\n",
    "n3len=len(nums3)\n",
    "if n3len%2==1:\n",
    "    ans=nums3[int(n3len/2-0.5)]\n",
    "    print('a')\n",
    "else:\n",
    "    ans=(nums3[int(n3len/2)]+nums3[int((n3len/2)-1)])/2\n",
    "    print('b')\n",
    "print(nums3,ans,len(nums3))\n",
    "#take numbers from n1 and n2 and compare left and right num and get rid of smaller one until (m+n)/2"
   ]
  },
  {
   "cell_type": "code",
   "execution_count": 20,
   "metadata": {},
   "outputs": [
    {
     "name": "stdout",
     "output_type": "stream",
     "text": [
      "2.5\n",
      "even\n",
      "[1, 2, 3]\n"
     ]
    }
   ],
   "source": [
    "nums1 = [1,2]; nums2 = [3,4]\n",
    "len1=len(nums1)## Recorded length before dummy value add\n",
    "len2=len(nums2)\n",
    "nums1.append(10**6+1) ##To avoid running out of bound by adding a dummy value at the end\n",
    "nums2.append(10**6+1)\n",
    "i=0;j=0 ### Counters\n",
    "nums3=[] ## Empty template for storing temp data\n",
    "\n",
    "s_a=True\n",
    "if (len1+len2)%2==1: ## ODD CASES\n",
    "    while s_a:\n",
    "        if nums1[i]>=nums2[j]: ### Which ever one is smaller will move forward to next numb to get bigger to progress\n",
    "            j+=1\n",
    "            nums3.append(n2)## Records it whenever a number is progressed through\n",
    "        else:\n",
    "            i+=1\n",
    "            nums3.append(n1)\n",
    "        if i+j>=(len1+len2+1)/2: ## Once we reach half way pt +1, we take the last recorded number (This mid pt can be calibrated)\n",
    "            print(nums3[-1]) ### Last recorded number is the median since it is the last number we progressed through\n",
    "            print('odd')\n",
    "            s_a=False\n",
    "else: ### EVEN CASES\n",
    "    while s_a:\n",
    "        if nums1[i]>=nums2[j]: ## Same as odd but taking two numb and divid by 2 instead of just 1\n",
    "            j+=1\n",
    "            nums3.append(n2)\n",
    "        else:\n",
    "            i+=1\n",
    "            nums3.append(n1)\n",
    "        if i+j>=(len1+len2)/2+1:\n",
    "            print((nums3[-1]+nums3[-2])/2)\n",
    "            print('even')\n",
    "            print(nums3)\n",
    "            s_a=False\n",
    "## Started out with a simplar case for this solution with one pter for each num1 and num2\n",
    "## Finds out it doesnt work in even cases since in some even cases both number of interests are in the same list...\n",
    "## Attempt to replicate dyanmic programing memoization resulted in using a num3 to record and sort data and use num3 instead of pters\n"
   ]
  },
  {
   "cell_type": "markdown",
   "metadata": {},
   "source": [
    "# Problem 5: Longest Palindromic Substring (complete) x"
   ]
  },
  {
   "cell_type": "code",
   "execution_count": 21,
   "metadata": {},
   "outputs": [
    {
     "name": "stdout",
     "output_type": "stream",
     "text": [
      "True\n"
     ]
    }
   ],
   "source": [
    "s=\"aaaabbbbbbbbbbccccccccccddddddddddeeeeeeeeeeffffffffffgggggggggghhhhhhhhhhiiiiiiiiiijjjjjjjjjjkkkkkkkkkkllllllllllmmmmmmmmmmnnnnnnnnnnooooooooooppppppppppqqqqqqqqqqrrrrrrrrrrssssssssssttttttttttuuuuuuuuuuvvvvvvvvvvwwwwwwwwwwxxxxxxxxxxyyyyyyyyyyzzzzzzzzzzyyyyyyyyyyxxxxxxxxxxwwwwwwwwwwvvvvvvvvvvuuuuuuuuuuttttttttttssssssssssrrrrrrrrrrqqqqqqqqqqppppppppppoooooooooonnnnnnnnnnmmmmmmmmmmllllllllllkkkkkkkkkkjjjjjjjjjjiiiiiiiiiihhhhhhhhhhggggggggggffffffffffeeeeeeeeeeddddddddddccccccccccbbbbbbbbbbaaaaaaaabbbbbbbbbbccccccccccddddddddddeeeeeeeeeeffffffffffgggggggggghhhhhhhhhhiiiiiiiiiijjjjjjjjjjkkkkkkkkkkllllllllllmmmmmmmmmmnnnnnnnnnnooooooooooppppppppppqqqqqqqqqqrrrrrrrrrrssssssssssttttttttttuuuuuuuuuuvvvvvvvvvvwwwwwwwwwwxxxxxxxxxxyyyyyyyyyyzzzzzzzzzzyyyyyyyyyyxxxxxxxxxxwwwwwwwwwwvvvvvvvvvvuuuuuuuuuuttttttttttssssssssssrrrrrrrrrrqqqqqqqqqqppppppppppoooooooooonnnnnnnnnnmmmmmmmmmmllllllllllkkkkkkkkkkjjjjjjjjjjiiiiiiiiiihhhhhhhhhhggggggggggffffffffffeeeeeeeeeeddddddddddccccccccccbbbbbbbbbbaaaa\"\n",
    "truans=\"aaaabbbbbbbbbbccccccccccddddddddddeeeeeeeeeeffffffffffgggggggggghhhhhhhhhhiiiiiiiiiijjjjjjjjjjkkkkkkkkkkllllllllllmmmmmmmmmmnnnnnnnnnnooooooooooppppppppppqqqqqqqqqqrrrrrrrrrrssssssssssttttttttttuuuuuuuuuuvvvvvvvvvvwwwwwwwwwwxxxxxxxxxxyyyyyyyyyyzzzzzzzzzzyyyyyyyyyyxxxxxxxxxxwwwwwwwwwwvvvvvvvvvvuuuuuuuuuuttttttttttssssssssssrrrrrrrrrrqqqqqqqqqqppppppppppoooooooooonnnnnnnnnnmmmmmmmmmmllllllllllkkkkkkkkkkjjjjjjjjjjiiiiiiiiiihhhhhhhhhhggggggggggffffffffffeeeeeeeeeeddddddddddccccccccccbbbbbbbbbbaaaaaaaabbbbbbbbbbccccccccccddddddddddeeeeeeeeeeffffffffffgggggggggghhhhhhhhhhiiiiiiiiiijjjjjjjjjjkkkkkkkkkkllllllllllmmmmmmmmmmnnnnnnnnnnooooooooooppppppppppqqqqqqqqqqrrrrrrrrrrssssssssssttttttttttuuuuuuuuuuvvvvvvvvvvwwwwwwwwwwxxxxxxxxxxyyyyyyyyyyzzzzzzzzzzyyyyyyyyyyxxxxxxxxxxwwwwwwwwwwvvvvvvvvvvuuuuuuuuuuttttttttttssssssssssrrrrrrrrrrqqqqqqqqqqppppppppppoooooooooonnnnnnnnnnmmmmmmmmmmllllllllllkkkkkkkkkkjjjjjjjjjjiiiiiiiiiihhhhhhhhhhggggggggggffffffffffeeeeeeeeeeddddddddddccccccccccbbbbbbbbbbaaaa\"\n",
    "def oddseed(s,i,ans,slen):\n",
    "    count=1\n",
    "    downpointer=i ; uppointer=i\n",
    "    while (downpointer>=0) and (uppointer<=slen-1) and s[downpointer]==s[uppointer]:\n",
    "        temp=s[downpointer:uppointer+1]\n",
    "        uppointer=i+count\n",
    "        downpointer=i-count\n",
    "        count+=1\n",
    "\n",
    "    if len(temp)>len(ans):\n",
    "        ans=temp\n",
    "    return ans\n",
    "\n",
    "def evenseed(s,i,ans,slen):\n",
    "    count=0\n",
    "    downpointer=i ; uppointer=i\n",
    "    while (downpointer>=0) and (uppointer<=slen-1) and s[downpointer]==s[uppointer]:\n",
    "        temp=s[downpointer:uppointer+1]\n",
    "        uppointer=i+1+count\n",
    "        downpointer=i-count\n",
    "        count+=1\n",
    "\n",
    "    if len(temp)>len(ans):\n",
    "        ans=temp\n",
    "    return ans\n",
    "\n",
    "\n",
    "slen=len(s)\n",
    "ans=\"\"\n",
    "if slen<2:\n",
    "    ans=s\n",
    "for i in range(slen-1):\n",
    "    ans=oddseed(s,i,ans,slen)\n",
    "    ans=evenseed(s,i,ans,slen)\n",
    "    \n",
    "print(ans==truans) #dynamic programming? #create table => to represent the results?"
   ]
  },
  {
   "cell_type": "code",
   "execution_count": 3,
   "metadata": {},
   "outputs": [
    {
     "name": "stderr",
     "output_type": "stream",
     "text": [
      "IOPub data rate exceeded.\n",
      "The notebook server will temporarily stop sending output\n",
      "to the client in order to avoid crashing it.\n",
      "To change this limit, set the config variable\n",
      "`--NotebookApp.iopub_data_rate_limit`.\n",
      "\n",
      "Current values:\n",
      "NotebookApp.iopub_data_rate_limit=1000000.0 (bytes/sec)\n",
      "NotebookApp.rate_limit_window=3.0 (secs)\n",
      "\n"
     ]
    }
   ],
   "source": [
    "#Solution 2 Dynamic Programming (bottom up programming) (149 / 176 test cases passed. but run time exceeded)\n",
    "s=\"aaaabbbbbbbbbbccccccccccddddddddddeeeeeeeeeeffffffffffgggggggggghhhhhhhhhhiiiiiiiiiijjjjjjjjjjkkkkkkkkkkllllllllllmmmmmmmmmmnnnnnnnnnnooooooooooppppppppppqqqqqqqqqqrrrrrrrrrrssssssssssttttttttttuuuuuuuuuuvvvvvvvvvvwwwwwwwwwwxxxxxxxxxxyyyyyyyyyyzzzzzzzzzzyyyyyyyyyyxxxxxxxxxxwwwwwwwwwwvvvvvvvvvvuuuuuuuuuuttttttttttssssssssssrrrrrrrrrrqqqqqqqqqqppppppppppoooooooooonnnnnnnnnnmmmmmmmmmmllllllllllkkkkkkkkkkjjjjjjjjjjiiiiiiiiiihhhhhhhhhhggggggggggffffffffffeeeeeeeeeeddddddddddccccccccccbbbbbbbbbbaaaaaaaabbbbbbbbbbccccccccccddddddddddeeeeeeeeeeffffffffffgggggggggghhhhhhhhhhiiiiiiiiiijjjjjjjjjjkkkkkkkkkkllllllllllmmmmmmmmmmnnnnnnnnnnooooooooooppppppppppqqqqqqqqqqrrrrrrrrrrssssssssssttttttttttuuuuuuuuuuvvvvvvvvvvwwwwwwwwwwxxxxxxxxxxyyyyyyyyyyzzzzzzzzzzyyyyyyyyyyxxxxxxxxxxwwwwwwwwwwvvvvvvvvvvuuuuuuuuuuttttttttttssssssssssrrrrrrrrrrqqqqqqqqqqppppppppppoooooooooonnnnnnnnnnmmmmmmmmmmllllllllllkkkkkkkkkkjjjjjjjjjjiiiiiiiiiihhhhhhhhhhggggggggggffffffffffeeeeeeeeeeddddddddddccccccccccbbbbbbbbbbaaaa\"\n",
    "truans=\"aaaabbbbbbbbbbccccccccccddddddddddeeeeeeeeeeffffffffffgggggggggghhhhhhhhhhiiiiiiiiiijjjjjjjjjjkkkkkkkkkkllllllllllmmmmmmmmmmnnnnnnnnnnooooooooooppppppppppqqqqqqqqqqrrrrrrrrrrssssssssssttttttttttuuuuuuuuuuvvvvvvvvvvwwwwwwwwwwxxxxxxxxxxyyyyyyyyyyzzzzzzzzzzyyyyyyyyyyxxxxxxxxxxwwwwwwwwwwvvvvvvvvvvuuuuuuuuuuttttttttttssssssssssrrrrrrrrrrqqqqqqqqqqppppppppppoooooooooonnnnnnnnnnmmmmmmmmmmllllllllllkkkkkkkkkkjjjjjjjjjjiiiiiiiiiihhhhhhhhhhggggggggggffffffffffeeeeeeeeeeddddddddddccccccccccbbbbbbbbbbaaaaaaaabbbbbbbbbbccccccccccddddddddddeeeeeeeeeeffffffffffgggggggggghhhhhhhhhhiiiiiiiiiijjjjjjjjjjkkkkkkkkkkllllllllllmmmmmmmmmmnnnnnnnnnnooooooooooppppppppppqqqqqqqqqqrrrrrrrrrrssssssssssttttttttttuuuuuuuuuuvvvvvvvvvvwwwwwwwwwwxxxxxxxxxxyyyyyyyyyyzzzzzzzzzzyyyyyyyyyyxxxxxxxxxxwwwwwwwwwwvvvvvvvvvvuuuuuuuuuuttttttttttssssssssssrrrrrrrrrrqqqqqqqqqqppppppppppoooooooooonnnnnnnnnnmmmmmmmmmmllllllllllkkkkkkkkkkjjjjjjjjjjiiiiiiiiiihhhhhhhhhhggggggggggffffffffffeeeeeeeeeeddddddddddccccccccccbbbbbbbbbbaaaa\"\n",
    "slen=len(s)\n",
    "#matrix initialization\n",
    "mat=[]\n",
    "for i in range(slen):\n",
    "    mat.append([])\n",
    "    for j in range(slen):\n",
    "        mat[i].append(-1)\n",
    "##initilaizing initial status        \n",
    "for i in range(slen):\n",
    "    mat[i][i]=1\n",
    "    if i!=0 and s[i]==s[i-1]:\n",
    "        mat[i][i-1]=1\n",
    "    elif i!=0:\n",
    "        mat[i][i-1]=0\n",
    "\n",
    "## Operation start!!\n",
    "tracker=1\n",
    "ans=s[0]\n",
    "for i in range(slen):### Label the matrix to figure out what to what is a palindrome j is staring pt and i is ending pt\n",
    "    for j in range(i):\n",
    "        if j!=i and j!=i-1:\n",
    "            if s[i]==s[j] and mat[i-1][j+1]==1:\n",
    "                mat[i][j]=1\n",
    "            else:\n",
    "                mat[i][j]=0\n",
    "\n",
    "        if i+1-j>tracker and mat[i][j]==1:### Recording the answer basing on the filled out table\n",
    "            tracker=i-j\n",
    "            ans=s[j:i+1]\n",
    "\n",
    "print(ans,mat)"
   ]
  },
  {
   "cell_type": "markdown",
   "metadata": {},
   "source": [
    "# Problem 6: ZigZag Conversion (completed) r"
   ]
  },
  {
   "cell_type": "code",
   "execution_count": 30,
   "metadata": {},
   "outputs": [
    {
     "name": "stdout",
     "output_type": "stream",
     "text": [
      "135246\n"
     ]
    }
   ],
   "source": [
    "#Zigzag scenarios has 3 scenarios: top middle bottom. Technically top and bottom is the exact same but different starting pt, \n",
    "#challenge comes in mid \n",
    "#this is done by horizontal row rather than vertical\n",
    "s = \"123456\"; numRows = 2\n",
    "truans=\"135246\"\n",
    "slen=len(s);ans='.'\n",
    "ans=ans*slen\n",
    "if slen<=numRows or numRows==1: ##skip proccessing/eliminate very short ones where it might cause error\n",
    "    ans=s\n",
    "    print(ans)\n",
    "\n",
    "steps=2;intervals=(numRows-1)*steps ##intialization\n",
    "topCounter=0;baseCounter=numRows-1 ##intialization for the top bottom scenarios\n",
    "midCounter=1;rowCounter=1;oddCounter=0 ##intiialization for middle\n",
    "\n",
    "for j in range(slen):\n",
    "    if j<(slen/intervals): ##if it at the top of the zigzag\n",
    "        ans=ans[:j]+s[topCounter]+ans[j+1:]#ans=ans[:j]+s[j*intervals]+ans[j+1:]\n",
    "        topCounter+=intervals\n",
    "        \n",
    "    elif j>=(slen-((slen-numRows)/intervals)-1): ##if at the bottom of zigzag\n",
    "        ans=ans[:j]+s[baseCounter]+ans[j+1:]\n",
    "        baseCounter+=intervals\n",
    "        \n",
    "    else: ##if at the middle\n",
    "        ans=ans[:j]+s[midCounter]+ans[j+1:] ##adding string\n",
    "        if oddCounter%2==0: #for scenarios where you are not between the \"intervals\" or two pillars of letters\n",
    "            midCounter+=intervals-rowCounter*2\n",
    "            oddCounter+=1\n",
    "        else: #scenarios where u are in the diagonal part b etween two pillars\n",
    "            midCounter+=rowCounter*2\n",
    "            oddCounter+=1\n",
    "        if midCounter>slen-1: #move to next row + reset\n",
    "            rowCounter+=1\n",
    "            midCounter=rowCounter\n",
    "            oddCounter=0\n",
    "print(ans)\n",
    "#The key of this problem is really to draw out the problem and figure out the pattern. My solution is complicated but it\n",
    "#can be simplified"
   ]
  },
  {
   "cell_type": "markdown",
   "metadata": {},
   "source": [
    "# Problem 7: Reverse Interger (completed) x"
   ]
  },
  {
   "cell_type": "code",
   "execution_count": 2,
   "metadata": {},
   "outputs": [
    {
     "name": "stdout",
     "output_type": "stream",
     "text": [
      "231\n"
     ]
    }
   ],
   "source": [
    "x=132\n",
    "a=str(x)\n",
    "b=[]\n",
    "if x<0:\n",
    "    for i in range(len(a)-1):\n",
    "        e=int(a[i+1])\n",
    "        b.append(e*10**i)\n",
    "        c=-sum(b)\n",
    "else:\n",
    "    for i in range(len(a)):\n",
    "        e=int(a[i])\n",
    "        b.append(e*10**i)\n",
    "        c=sum(b)\n",
    "if c<-2147483648 or c>2147483647:\n",
    "    c=0\n",
    "print(c)"
   ]
  },
  {
   "cell_type": "markdown",
   "metadata": {},
   "source": [
    "# Problem 8: String to Integer (atoi) (completed) x?"
   ]
  },
  {
   "cell_type": "code",
   "execution_count": 110,
   "metadata": {},
   "outputs": [
    {
     "name": "stdout",
     "output_type": "stream",
     "text": [
      "0\n"
     ]
    }
   ],
   "source": [
    "def isint(a):\n",
    "    try:\n",
    "        int(a)\n",
    "        return True\n",
    "    except:\n",
    "        return False\n",
    "\n",
    "def listnum(a):\n",
    "    c=0\n",
    "    if a[0]=='-':\n",
    "        for j in range(len(a)-1):\n",
    "            c=c+(int(a[j+1])*10**(len(a)-1-j-1))\n",
    "        c=-c\n",
    "        if c< -(2**31):\n",
    "            c=-(2**31)\n",
    "    else:\n",
    "        for j in range(len(a)):\n",
    "            c=c+(int(a[j])*10**(len(a)-j-1))\n",
    "        if c> (2**31)-1:\n",
    "            c=(2**31)-1\n",
    "    return c\n",
    "################################################\n",
    "s='    -   234'\n",
    "s=s.strip()\n",
    "a=[]\n",
    "tgint=0\n",
    "tgmin=0\n",
    "tgplus=0\n",
    "tgdot=0\n",
    "error=0\n",
    "for i in range(len(s)):\n",
    "    if isint(s[i]):\n",
    "        tgint=1\n",
    "        if (tgmin+tgplus)<=1 and tgdot==0:\n",
    "            a.append(s[i])\n",
    "    elif s[i]=='-' or s[i]=='+' or s[i]=='.':\n",
    "        if s[i]=='-':\n",
    "            if tgint!=0:\n",
    "                tgmin=tgmin+2\n",
    "            else:\n",
    "                tgmin=tgmin+1\n",
    "        elif s[i]==\"+\":\n",
    "            if tgint!=0:\n",
    "                tgplus=tgplus+2\n",
    "            else:\n",
    "                tgplus=tgplus+1\n",
    "        elif s[i]=='.':\n",
    "            tgdot=1\n",
    "        try:\n",
    "            int(s[i+1])\n",
    "            if s[i]=='-' and (tgmin+tgplus)<=1 and tgint==0:\n",
    "                a.append(s[i])\n",
    "        except:\n",
    "            pass\n",
    "    elif tgint==0 and (tgmin+tgplus)==0 and s[i]!=' ':\n",
    "        error=1\n",
    "    else:\n",
    "        tgdot=1\n",
    "if len(a)==0 or error==1:\n",
    "    print(0)\n",
    "elif error==0: \n",
    "    print(listnum(a)) #simplify by removing and editing the original string"
   ]
  },
  {
   "cell_type": "markdown",
   "metadata": {},
   "source": [
    "# Promblem 9: Palindrome Number (completed) x"
   ]
  },
  {
   "cell_type": "code",
   "execution_count": 5,
   "metadata": {},
   "outputs": [
    {
     "name": "stdout",
     "output_type": "stream",
     "text": [
      "True\n"
     ]
    }
   ],
   "source": [
    "x=34543\n",
    "\n",
    "\n",
    "xlen=len(str(x))\n",
    "odd=xlen%2\n",
    "c=0\n",
    "nx=abs(x)\n",
    "\n",
    "halflen=int((xlen-odd)/2)\n",
    "for i in range(halflen):\n",
    "    div=int(nx%10)\n",
    "    c=c*10+div\n",
    "    nx=(nx-div)/10\n",
    "\n",
    "if xlen%2==1:\n",
    "    nx=int((nx-int(nx%10))/10)\n",
    "else:\n",
    "    nx=int(nx)\n",
    "\n",
    "print (c==nx and x>=0)"
   ]
  },
  {
   "cell_type": "markdown",
   "metadata": {},
   "source": [
    "# Problem 10: Regular Expression Matching (completed) r"
   ]
  },
  {
   "cell_type": "code",
   "execution_count": 3,
   "metadata": {},
   "outputs": [
    {
     "name": "stdout",
     "output_type": "stream",
     "text": [
      "True\n"
     ]
    }
   ],
   "source": [
    "s=\"mississippi\"\n",
    "p=\"mis*is*ip*.\"\n",
    "s=' '+s;p=' '+p\n",
    "memo=[]\n",
    "for i in range(len(s)):\n",
    "    memo.append([])\n",
    "    for j in range(len(p)):\n",
    "        memo[i].append(False) \n",
    "## Initializing Cache/memo with False as base and only flip when needed\n",
    "\n",
    "memo[0][0]=True #base condition always true\n",
    "for i in range(len(memo)):\n",
    "    if i>0 and True not in memo[i-1]:\n",
    "        ans=False\n",
    "    for j in range(len(memo[0])):\n",
    "        if j!=0: #naturally skips all [i][0] as they will always be False\n",
    "            if memo[i-1][j-1] and ((p[j]=='.' and i!=0) or s[i]==p[j]): #base solution without *\n",
    "                memo[i][j]= True \n",
    "## Condition is met when we know the current one matches p=s and it has been matching so far [i-1][j-1]=True\n",
    "\n",
    "            elif p[j]=='*' and (memo[i][j-2] or (memo[i-1][j] and (s[i]==p[j-1] or (p[j-1]=='.' and i!=0)))):\n",
    "                    memo[i][j]=True\n",
    "## Condition is met when know that it has been matching so far before the x* combo [i][j-2]=True\n",
    "## or that the combo letter before * matches s=p[i-1] AND we need to keep matching [i-1]\n",
    "ans=memo[-1][-1]\n",
    "print(ans)"
   ]
  },
  {
   "cell_type": "markdown",
   "metadata": {},
   "source": [
    "# Problem 11: Container With Most Water (completed) x"
   ]
  },
  {
   "cell_type": "code",
   "execution_count": 65,
   "metadata": {},
   "outputs": [
    {
     "name": "stdout",
     "output_type": "stream",
     "text": [
      "49\n"
     ]
    }
   ],
   "source": [
    "height = [1,8,6,2,5,4,8,3,7]\n",
    "finans=16\n",
    "\n",
    "ans=0\n",
    "a=0;b=len(height)-1\n",
    "while a+(len(height)-b)<len(height):\n",
    "    av=height[a];bv=height[b]\n",
    "    temp=min(av,bv)*(b-a)\n",
    "    if av<=bv:\n",
    "        a+=1\n",
    "    elif av>bv:\n",
    "        b-=1\n",
    "    if temp>ans:\n",
    "        ans=temp\n",
    "print(ans)"
   ]
  },
  {
   "cell_type": "markdown",
   "metadata": {},
   "source": [
    "# Problem 12: Interger to Roman (completed) x"
   ]
  },
  {
   "cell_type": "code",
   "execution_count": 9,
   "metadata": {},
   "outputs": [
    {
     "name": "stdout",
     "output_type": "stream",
     "text": [
      "XL\n"
     ]
    }
   ],
   "source": [
    "s=14\n",
    "ans=''\n",
    "log={1:'I',5:'V',10:'X',50:'L',100:'C',500:'D',1000:'M',5000:'LK',10000:'JK'}\n",
    "div=1\n",
    "c=[]\n",
    "ans=''\n",
    "for i in range(len(log.keys())):\n",
    "    \n",
    "    power=10000/div #log.keys()[-i-1] #change 10k to keys?\n",
    "    if i%2==0:\n",
    "        div*=2 #unneccessary\n",
    "    else:\n",
    "        div*=5 #unneccessary\n",
    "\n",
    "    c.append(int((s-s%power)/power))\n",
    "    s=s-c[i]*power\n",
    "    \n",
    "    if c[i]==4:\n",
    "        if c[i-1]==0:\n",
    "            add=log[power]+log[power*5]\n",
    "            ans=ans+add\n",
    "        elif c[i-1]==1:\n",
    "            add=log[power]+log[power*10]\n",
    "            ans=ans[:-1]+add\n",
    "    else:\n",
    "        add=c[i]*log[power]\n",
    "        ans=ans+add\n",
    "        \n",
    "print(ans) #simplify this? #\n",
    "\n"
   ]
  },
  {
   "cell_type": "markdown",
   "metadata": {},
   "source": [
    "# Problem 13: Roman to Integer (completed) x"
   ]
  },
  {
   "cell_type": "code",
   "execution_count": 14,
   "metadata": {},
   "outputs": [
    {
     "name": "stdout",
     "output_type": "stream",
     "text": [
      "[100]\n",
      "[100, 100]\n",
      "[100, 100, 100]\n",
      "[100, 100, 100, 40]\n",
      "[100, 100, 100, 40, 1]\n",
      "[100, 100, 100, 40, 1, 1]\n",
      "342\n"
     ]
    }
   ],
   "source": [
    "s=\"CCCXLII\"\n",
    "ans=342\n",
    "log={'I':1,'V':5,'X':10,'L':50,'C':100,'D':500,'M':1000}\n",
    "c=[]\n",
    "skip=0\n",
    "for i in range(len(s)):\n",
    "    if skip==0:\n",
    "        a=log[s[i]]\n",
    "        try:\n",
    "            b=log[s[i+1]]\n",
    "        except:\n",
    "            b=0\n",
    "        pass\n",
    "        if a<b:\n",
    "            c.append(b-a)\n",
    "            skip=1\n",
    "        else:\n",
    "            c.append(a)\n",
    "        print(c)\n",
    "    else:\n",
    "        skip=0\n",
    "print(sum(c))"
   ]
  },
  {
   "cell_type": "markdown",
   "metadata": {},
   "source": [
    "# Problem 14: Longest Common Prefix (completed) x"
   ]
  },
  {
   "cell_type": "code",
   "execution_count": 42,
   "metadata": {},
   "outputs": [
    {
     "name": "stdout",
     "output_type": "stream",
     "text": [
      "i \n",
      "Program stopped at letter 1, word 0+1 , and the number of input word is 1\n",
      "i \n",
      "Program stopped at letter 1, word 0+1 , and the number of input word is 1\n"
     ]
    }
   ],
   "source": [
    "strs=['i']\n",
    "\n",
    "ans=''\n",
    "s_a=0\n",
    "i=0\n",
    "if len(strs)==0:\n",
    "    s_a=1\n",
    "while s_a==0:\n",
    "    dummy=[]\n",
    "    try:\n",
    "        for j in range(len(strs)):\n",
    "            str_1=strs[j]\n",
    "            dummy.append(str_1[i])\n",
    "            \n",
    "        dummyset=set(dummy)\n",
    "        if len(dummyset)==1:\n",
    "            ans+=str_1[i]\n",
    "        else:\n",
    "            s_a=1\n",
    "        i+=1\n",
    "    except:\n",
    "        s_a=1\n",
    "    print(ans,f\"\\nProgram stopped at letter {i}, word {j}+1 , and the number of input word is {len(strs)}\")\n"
   ]
  },
  {
   "cell_type": "markdown",
   "metadata": {},
   "source": [
    "# Problem 15: 3Sum (completed) x"
   ]
  },
  {
   "cell_type": "code",
   "execution_count": 43,
   "metadata": {},
   "outputs": [
    {
     "name": "stdout",
     "output_type": "stream",
     "text": [
      "[[-1, 0, 1], [-1, -1, 2]]\n"
     ]
    }
   ],
   "source": [
    "## Dictionary Method ### 315 / 318 test cases passed. Status: Time Limit Exceeded\n",
    "nums = [-1,0,1,2,-1,-4]\n",
    "ans=[]\n",
    "dictionary={i:v for (i,v) in zip(range(len(nums)),nums)}\n",
    "keys=list(dictionary.keys()) #seperating the dict key and value but share index\n",
    "values=list(dictionary.values())\n",
    "    \n",
    "for j in range(len(nums)):\n",
    "    target=-nums[j] ## A+B+C=0 B+C=-A=TARGET\n",
    "    for k in range(len(nums)):\n",
    "        a=target-nums[k] #C=(TARGET)-B\n",
    "        if a in dictionary.values():\n",
    "            l=keys[values.index(a)]\n",
    "            if j!=k and j!=l and l!=k:\n",
    "                index=[nums[j],nums[k],nums[l]]\n",
    "                index.sort()\n",
    "                if index not in ans:\n",
    "                    ans.append(index)\n",
    "print(ans) #whats a one pass hash table"
   ]
  },
  {
   "cell_type": "code",
   "execution_count": 51,
   "metadata": {},
   "outputs": [
    {
     "name": "stdout",
     "output_type": "stream",
     "text": [
      "[[-2, -1, 3], [-2, 0, 2], [-1, 0, 1]]\n"
     ]
    }
   ],
   "source": [
    "## Proper mathematical method ## Can be improved if we identify which one we don't actually have to repeat check\n",
    "nums = [3,0,-2,-1,1,2]\n",
    "nums.sort()\n",
    "ans=[]\n",
    "i=0\n",
    "for j in range(len(nums)):\n",
    "    target=-nums[j] ## A+B+C=0 A+B=-C=TARGET\n",
    "    s_a=0\n",
    "    a=j+1;b=len(nums)-1\n",
    "    i=j\n",
    "    while s_a==0:\n",
    "        try:\n",
    "            check=nums[i]\n",
    "            x=nums[a]\n",
    "            y=nums[b]\n",
    "        except:\n",
    "            s_a=1\n",
    "            break\n",
    "        i+=1\n",
    "        if (x+y)> target: ## IF X+Y IS BIGGER, SINCE THE NUMBERS ARE ARRANGED, THE ONLY WAY TO GET THE SUM SMALLER IS TO MOVE Y\n",
    "            b-=1\n",
    "        elif (x+y)< target: ### IF SUM IS SMALLER, SINCE NUMBS ARE ARRANGED, TO GET SUM BIGGER IS TO MOVE X TO BIGGER NUMS\n",
    "            a+=1\n",
    "        else: ## EVENTUALLY IT WILL SCOPE DOWN\n",
    "            if a!=b and b!=j and a!=j:\n",
    "                anstemp=[x,y,-target]\n",
    "                a+=1\n",
    "                anstemp.sort()\n",
    "                if anstemp not in ans:\n",
    "                    ans.append(anstemp)\n",
    "print(ans)"
   ]
  },
  {
   "cell_type": "markdown",
   "metadata": {},
   "source": [
    "# Problem 16: 3Sum Closest  (completed) x"
   ]
  },
  {
   "cell_type": "code",
   "execution_count": 34,
   "metadata": {},
   "outputs": [
    {
     "name": "stdout",
     "output_type": "stream",
     "text": [
      "0\n"
     ]
    }
   ],
   "source": [
    "#two pointer method\n",
    "nums=[0,2,1,-3]\n",
    "target=1\n",
    "nums.sort() #sort for two pointer\n",
    "sa=0 #switch design only when return not avaliable\n",
    "\n",
    "ans = sum(nums[0:2+1])\n",
    "for i in range(len(nums)-2):\n",
    "    j=1+i;k=len(nums)-1 #initialization\n",
    "    if sa==1:\n",
    "        break\n",
    "    for n in range(len(nums)-i): \n",
    "        temp=nums[i]+nums[j]+nums[k] ##Calculation for current sum\n",
    "        if abs(target-ans)>abs(target-temp):\n",
    "            ans=temp\n",
    "        if temp==target:\n",
    "            ans=temp \n",
    "            \n",
    "            sa=1 ## should be replaced with return temp\n",
    "            break\n",
    "            \n",
    "        if j+1==k: #two pointer\n",
    "            break #break out of n loop\n",
    "        elif temp<=target:\n",
    "            j+=1\n",
    "        else:\n",
    "            k-=1\n",
    "print(ans)"
   ]
  },
  {
   "cell_type": "code",
   "execution_count": null,
   "metadata": {},
   "outputs": [],
   "source": [
    "class Solution:\n",
    "    def threeSumClosest(self, nums: List[int], target: int) -> int:\n",
    "        diff = float('inf')\n",
    "        nums.sort()\n",
    "        for i in range(len(nums)):\n",
    "            lo, hi = i + 1, len(nums) - 1\n",
    "            while (lo < hi):\n",
    "                sum = nums[i] + nums[lo] + nums[hi]\n",
    "                if abs(target - sum) < abs(diff):\n",
    "                    diff = target - sum\n",
    "                if sum < target:\n",
    "                    lo += 1\n",
    "                else:\n",
    "                    hi -= 1\n",
    "            if diff == 0:\n",
    "                break\n",
    "        return target - diff"
   ]
  },
  {
   "cell_type": "markdown",
   "metadata": {},
   "source": [
    "# Problem 17: Letter Combinations of a Phone Number (completed) r"
   ]
  },
  {
   "cell_type": "code",
   "execution_count": 55,
   "metadata": {},
   "outputs": [
    {
     "name": "stdout",
     "output_type": "stream",
     "text": [
      "['adg', 'adh', 'adi', 'aeg', 'aeh', 'aei', 'afg', 'afh', 'afi', 'bdg', 'bdh', 'bdi', 'beg', 'beh', 'bei', 'bfg', 'bfh', 'bfi', 'cdg', 'cdh', 'cdi', 'ceg', 'ceh', 'cei', 'cfg', 'cfh', 'cfi']\n"
     ]
    }
   ],
   "source": [
    "#recursive method similar to problem 22\n",
    "\n",
    "digits='234'\n",
    "\n",
    "# I can also make this a base case in my recursive function if my recursive function removes letters instead of increasing n\n",
    "if len(digits)==0: \n",
    "    print([])\n",
    "#placed in the front to minimize calculation\n",
    "\n",
    "mapp={'2':['a','b','c'],\n",
    "    '3':['d','e','f'],\n",
    "    '4':['g','h','i'],\n",
    "    '5':['j','k','l'],\n",
    "    '6':['m','n','o'],\n",
    "    '7':['p','q','r','s'],\n",
    "    '8':['t','u','v'],\n",
    "    '9':['w','x','y','z']} \n",
    "## dictionary for the phone numbers, if 1 and 0 are possibilities, then dic for 1 and 0 is needed be it empty list\n",
    "\n",
    "\n",
    "def letcombo(output,digits,mapp,temp):\n",
    "    n=len(temp)\n",
    "    if n==len(digits): ##base case if temp satisfies, temp gets appended (I can also use n here instead of len temp)\n",
    "        output.append(temp)\n",
    "    elif n<len(digits): ## n isnt actually needed but used to replace len(temp)\n",
    "        lst=mapp[digits[n]]\n",
    "        for i in range(len(lst)): #forloop sorts through all map letters for corresponding digits.\n",
    "            letcombo(output,digits,mapp,temp+lst[i]) ##if n counter used then n+1 as input here as well\n",
    "    return output\n",
    "\n",
    "ans=letcombo([],digits,mapp,'')\n",
    "print(ans)"
   ]
  },
  {
   "cell_type": "markdown",
   "metadata": {},
   "source": [
    "# Problem 18: 4Sum (completed but k sum not complete) r"
   ]
  },
  {
   "cell_type": "code",
   "execution_count": null,
   "metadata": {},
   "outputs": [],
   "source": [
    "#solution for 3sum ;P\n",
    "nums = [3,0,-2,-1,1,2]\n",
    "nums.sort()\n",
    "ans=[]\n",
    "i=0\n",
    "for j in range(len(nums)):\n",
    "    target=-nums[j] ## A+B+C=0 A+B=-C=TARGET\n",
    "    s_a=0\n",
    "    a=j+1;b=len(nums)-1\n",
    "    i=j\n",
    "    while s_a==0: #2sum components\n",
    "        try:\n",
    "            check=nums[i]\n",
    "            x=nums[a]\n",
    "            y=nums[b]\n",
    "        except:\n",
    "            s_a=1\n",
    "            break\n",
    "        i+=1\n",
    "        if (x+y)> target: ## IF X+Y IS BIGGER, SINCE THE NUMBERS ARE ARRANGED, THE ONLY WAY TO GET THE SUM SMALLER IS TO MOVE Y\n",
    "            b-=1\n",
    "        elif (x+y)< target: ### IF SUM IS SMALLER, SINCE NUMBS ARE ARRANGED, TO GET SUM BIGGER IS TO MOVE X TO BIGGER NUMS\n",
    "            a+=1\n",
    "        else: ## EVENTUALLY IT WILL SCOPE DOWN\n",
    "            if a!=b and b!=j and a!=j:\n",
    "                anstemp=[x,y,-target]\n",
    "                a+=1\n",
    "                anstemp.sort()\n",
    "                if anstemp not in ans:\n",
    "                    ans.append(anstemp)\n",
    "print(ans)"
   ]
  },
  {
   "cell_type": "code",
   "execution_count": 66,
   "metadata": {},
   "outputs": [
    {
     "name": "stdout",
     "output_type": "stream",
     "text": [
      "[[-2, -1, 1, 2], [-1, -1, 1, 1]]\n"
     ]
    }
   ],
   "source": [
    "#now its 4sum ;D\n",
    "nums = [-2,-1,-1,1,1,2,2]; target = 0\n",
    "Output=[[-2,-1,1,2],[-1,-1,1,1]]\n",
    "\n",
    "def fourSumsTwoSum(nums,target,n1,n2,ans): #assume that it is sorted, two sum for a four sum intaking n1 n2 to easily list\n",
    "    a=0;b=len(nums)-1\n",
    "    while True:\n",
    "        sumtemp=nums[a]+nums[b]\n",
    "        if a>=b:\n",
    "            return ans\n",
    "        if (sumtemp)>target:\n",
    "            b-=1\n",
    "        elif (sumtemp)<target:\n",
    "            a+=1\n",
    "        elif (a!=b):\n",
    "            ans.append([n1,n2,nums[a],nums[b]])\n",
    "            a+=1\n",
    "\n",
    "anstemp=[]\n",
    "if len(nums)<4:\n",
    "    print(anstemp)\n",
    "nums.sort()\n",
    "for i in range(len(nums)):\n",
    "    for j in range(len(nums)-i-2):\n",
    "        jindex=j+i+1\n",
    "        dummy=(target-nums[i]-nums[jindex])\n",
    "        anstemp=fourSumsTwoSum(nums[jindex+1:],dummy,nums[i],nums[jindex],anstemp)\n",
    "for k in anstemp:\n",
    "    if k not in ans:\n",
    "        ans.append(k)\n",
    "print(ans)\n",
    "#kind of slow previously but fixed after removing several unneccessary oeprations from main function"
   ]
  },
  {
   "cell_type": "markdown",
   "metadata": {},
   "source": [
    "# Bonus Problem 18: kSum"
   ]
  },
  {
   "cell_type": "code",
   "execution_count": 26,
   "metadata": {},
   "outputs": [
    {
     "name": "stdout",
     "output_type": "stream",
     "text": [
      "[[0, 2], [0, 2]]\n",
      "[[-1, 2], [0, 1], [0, 1]]\n",
      "[[0, 0]]\n",
      "[]\n",
      "[]\n",
      "[]\n",
      "[[0, 2], [0, 2], [-1, 2], [0, 1], [0, 1], [0, 0]]\n"
     ]
    }
   ],
   "source": [
    "#now its ksum ;D\n",
    "nums = [1,0,-1,0,-2,2]; target = 0\n",
    "Output=[[-2,-1,1,2],[-2,0,0,2],[-1,0,0,1]]\n",
    "\n",
    "\n",
    "def kSum(nums,target,k):\n",
    "    ans=[]\n",
    "    if k==2:\n",
    "        ans=twoSum(nums,target)\n",
    "        print(ans)\n",
    "    else:\n",
    "        for i in range(len(nums)):\n",
    "            ans.extend(kSum(nums[i:],target-nums[i],k-1))\n",
    "    return ans\n",
    "\n",
    "def twoSum(nums,target): #assume that it is sorted\n",
    "    a=0;b=len(nums)-1;p=[0,0]\n",
    "    ans=[]\n",
    "    while True:\n",
    "        p[0]=nums[a];p[1]=nums[b]\n",
    "        if (p[0]+p[1])>target:\n",
    "            b-=1\n",
    "        elif (p[0]+p[1])<target:\n",
    "            a+=1\n",
    "        elif a!=b:\n",
    "            ans.append([p[0],p[1]])\n",
    "            a+=1\n",
    "        if a>=b:\n",
    "            return ans\n",
    "nums.sort()\n",
    "ans=kSum(nums,target,3)\n",
    "print(ans)"
   ]
  },
  {
   "cell_type": "markdown",
   "metadata": {},
   "source": [
    "# Problem 19: Remove Nth Node From End of List (completed) r"
   ]
  },
  {
   "cell_type": "code",
   "execution_count": 1,
   "metadata": {},
   "outputs": [
    {
     "ename": "NameError",
     "evalue": "name 'ListNode' is not defined",
     "output_type": "error",
     "traceback": [
      "\u001b[1;31m---------------------------------------------------------------------------\u001b[0m",
      "\u001b[1;31mNameError\u001b[0m                                 Traceback (most recent call last)",
      "\u001b[1;32m<ipython-input-1-78740bfb5bb7>\u001b[0m in \u001b[0;36m<module>\u001b[1;34m\u001b[0m\n\u001b[0;32m      4\u001b[0m \u001b[1;31m#         self.val = val\u001b[0m\u001b[1;33m\u001b[0m\u001b[1;33m\u001b[0m\u001b[1;33m\u001b[0m\u001b[0m\n\u001b[0;32m      5\u001b[0m \u001b[1;31m#         self.next = next\u001b[0m\u001b[1;33m\u001b[0m\u001b[1;33m\u001b[0m\u001b[1;33m\u001b[0m\u001b[0m\n\u001b[1;32m----> 6\u001b[1;33m \u001b[1;32mclass\u001b[0m \u001b[0mSolution\u001b[0m\u001b[1;33m:\u001b[0m\u001b[1;33m\u001b[0m\u001b[1;33m\u001b[0m\u001b[0m\n\u001b[0m\u001b[0;32m      7\u001b[0m     \u001b[1;32mdef\u001b[0m \u001b[0mremoveNthFromEnd\u001b[0m\u001b[1;33m(\u001b[0m\u001b[0mself\u001b[0m\u001b[1;33m,\u001b[0m \u001b[0mhead\u001b[0m\u001b[1;33m:\u001b[0m \u001b[0mListNode\u001b[0m\u001b[1;33m,\u001b[0m \u001b[0mn\u001b[0m\u001b[1;33m:\u001b[0m \u001b[0mint\u001b[0m\u001b[1;33m)\u001b[0m \u001b[1;33m->\u001b[0m \u001b[0mListNode\u001b[0m\u001b[1;33m:\u001b[0m\u001b[1;33m\u001b[0m\u001b[1;33m\u001b[0m\u001b[0m\n\u001b[0;32m      8\u001b[0m         \u001b[0mdummy\u001b[0m\u001b[1;33m=\u001b[0m\u001b[0mListNode\u001b[0m\u001b[1;33m(\u001b[0m\u001b[1;36m0\u001b[0m\u001b[1;33m,\u001b[0m\u001b[0mhead\u001b[0m\u001b[1;33m)\u001b[0m\u001b[1;33m\u001b[0m\u001b[1;33m\u001b[0m\u001b[0m\n",
      "\u001b[1;32m<ipython-input-1-78740bfb5bb7>\u001b[0m in \u001b[0;36mSolution\u001b[1;34m()\u001b[0m\n\u001b[0;32m      5\u001b[0m \u001b[1;31m#         self.next = next\u001b[0m\u001b[1;33m\u001b[0m\u001b[1;33m\u001b[0m\u001b[1;33m\u001b[0m\u001b[0m\n\u001b[0;32m      6\u001b[0m \u001b[1;32mclass\u001b[0m \u001b[0mSolution\u001b[0m\u001b[1;33m:\u001b[0m\u001b[1;33m\u001b[0m\u001b[1;33m\u001b[0m\u001b[0m\n\u001b[1;32m----> 7\u001b[1;33m     \u001b[1;32mdef\u001b[0m \u001b[0mremoveNthFromEnd\u001b[0m\u001b[1;33m(\u001b[0m\u001b[0mself\u001b[0m\u001b[1;33m,\u001b[0m \u001b[0mhead\u001b[0m\u001b[1;33m:\u001b[0m \u001b[0mListNode\u001b[0m\u001b[1;33m,\u001b[0m \u001b[0mn\u001b[0m\u001b[1;33m:\u001b[0m \u001b[0mint\u001b[0m\u001b[1;33m)\u001b[0m \u001b[1;33m->\u001b[0m \u001b[0mListNode\u001b[0m\u001b[1;33m:\u001b[0m\u001b[1;33m\u001b[0m\u001b[1;33m\u001b[0m\u001b[0m\n\u001b[0m\u001b[0;32m      8\u001b[0m         \u001b[0mdummy\u001b[0m\u001b[1;33m=\u001b[0m\u001b[0mListNode\u001b[0m\u001b[1;33m(\u001b[0m\u001b[1;36m0\u001b[0m\u001b[1;33m,\u001b[0m\u001b[0mhead\u001b[0m\u001b[1;33m)\u001b[0m\u001b[1;33m\u001b[0m\u001b[1;33m\u001b[0m\u001b[0m\n\u001b[0;32m      9\u001b[0m         \u001b[0mleft\u001b[0m\u001b[1;33m=\u001b[0m\u001b[0mdummy\u001b[0m\u001b[1;33m\u001b[0m\u001b[1;33m\u001b[0m\u001b[0m\n",
      "\u001b[1;31mNameError\u001b[0m: name 'ListNode' is not defined"
     ]
    }
   ],
   "source": [
    "# Definition for singly-linked list.\n",
    "# class ListNode:\n",
    "#     def __init__(self, val=0, next=None):\n",
    "#         self.val = val\n",
    "#         self.next = next\n",
    "class Solution:\n",
    "    def removeNthFromEnd(self, head: ListNode, n: int) -> ListNode:\n",
    "        dummy=ListNode(0,head)\n",
    "        left=dummy\n",
    "        right=head\n",
    "        for i in range(n):\n",
    "            right=right.next\n",
    "        while right:\n",
    "            right=right.next\n",
    "            left=left.next\n",
    "        left.next=left.next.next\n",
    "        return dummy.next\n",
    "#two pass advantage is in that they only need to check the requirements once \n",
    "#and doesnt have to check the requirements again. Regardless, they are somewhat more two passed than just one\n",
    "# interestingly when i return head instead of dummy.next, on linked list with [1], \n",
    "#I will result with an output of [1] instead of [] despite all other cases it works fine"
   ]
  },
  {
   "cell_type": "markdown",
   "metadata": {},
   "source": [
    "# Problem 20: Valid Parentheses (complete) x"
   ]
  },
  {
   "cell_type": "code",
   "execution_count": null,
   "metadata": {},
   "outputs": [],
   "source": [
    "class Solution: \n",
    "    def isValid(self, s: str) -> bool:\n",
    "        op=['(','[','{']\n",
    "        dictionary={'(':')','[':']','{':'}'}\n",
    "\n",
    "        order=[]\n",
    "        if len(s)<2:\n",
    "            return False\n",
    "        for i in range(len(s)):\n",
    "            temp=s[i]\n",
    "            if temp in op:\n",
    "                order.append(temp)\n",
    "            elif len(order)==0:\n",
    "                return False\n",
    "            elif temp==dictionary[order[-1]]:\n",
    "                order.pop(-1)\n",
    "            else:\n",
    "                return False\n",
    "\n",
    "        if len(order)==0:\n",
    "            return True\n",
    "        else:\n",
    "            return False"
   ]
  },
  {
   "cell_type": "markdown",
   "metadata": {},
   "source": [
    "# Problem 21: Merge Two Sorted Lists (completed) x"
   ]
  },
  {
   "cell_type": "code",
   "execution_count": 5,
   "metadata": {},
   "outputs": [],
   "source": [
    "# Definition for singly-linked list.\n",
    "class ListNode:\n",
    "    def __init__(self, val=0, next=None):\n",
    "        self.val = val\n",
    "        self.next = next\n",
    "\n",
    "class Solution:\n",
    "    def mergeTwoLists(self, l1: ListNode, l2: ListNode) -> ListNode:\n",
    "        a=0\n",
    "        c=ListNode()\n",
    "        ctail=c\n",
    "        while l1!=None or l2!=None:\n",
    "            try:\n",
    "                if (l1.val<=l2.val):\n",
    "                    a=l1.val\n",
    "                    l1=l1.next\n",
    "                else:\n",
    "                    a=l2.val\n",
    "                    l2=l2.next\n",
    "            except:\n",
    "                if l2==None:\n",
    "                    a=l1.val\n",
    "                    l1=l1.next\n",
    "                elif l1==None:\n",
    "                    a=l2.val\n",
    "                    l2=l2.next\n",
    "            ctail.next=ListNode(a)\n",
    "            ctail=ctail.next\n",
    "\n",
    "        return c.next\n",
    "        "
   ]
  },
  {
   "cell_type": "markdown",
   "metadata": {},
   "source": [
    "# Problem 22: Generate Parentheses (completed) r"
   ]
  },
  {
   "cell_type": "code",
   "execution_count": 8,
   "metadata": {},
   "outputs": [
    {
     "name": "stdout",
     "output_type": "stream",
     "text": [
      "['(((((((())))))))', '((((((()()))))))', '((((((())())))))', '((((((()))()))))', '((((((())))())))', '((((((()))))()))', '((((((())))))())', '((((((()))))))()', '(((((()(()))))))', '(((((()()())))))', '(((((()())()))))', '(((((()()))())))', '(((((()())))()))', '(((((()()))))())', '(((((()())))))()', '(((((())(())))))', '(((((())()()))))', '(((((())())())))', '(((((())()))()))', '(((((())())))())', '(((((())()))))()', '(((((()))(()))))', '(((((()))()())))', '(((((()))())()))', '(((((()))()))())', '(((((()))())))()', '(((((())))(())))', '(((((())))()()))', '(((((())))())())', '(((((())))()))()', '(((((()))))(()))', '(((((()))))()())', '(((((()))))())()', '(((((())))))(())', '(((((())))))()()', '((((()((()))))))', '((((()(()())))))', '((((()(())()))))', '((((()(()))())))', '((((()(())))()))', '((((()(()))))())', '((((()(())))))()', '((((()()(())))))', '((((()()()()))))', '((((()()())())))', '((((()()()))()))', '((((()()())))())', '((((()()()))))()', '((((()())(()))))', '((((()())()())))', '((((()())())()))', '((((()())()))())', '((((()())())))()', '((((()()))(())))', '((((()()))()()))', '((((()()))())())', '((((()()))()))()', '((((()())))(()))', '((((()())))()())', '((((()())))())()', '((((()()))))(())', '((((()()))))()()', '((((())((())))))', '((((())(()()))))', '((((())(())())))', '((((())(()))()))', '((((())(())))())', '((((())(()))))()', '((((())()(()))))', '((((())()()())))', '((((())()())()))', '((((())()()))())', '((((())()())))()', '((((())())(())))', '((((())())()()))', '((((())())())())', '((((())())()))()', '((((())()))(()))', '((((())()))()())', '((((())()))())()', '((((())())))(())', '((((())())))()()', '((((()))((()))))', '((((()))(()())))', '((((()))(())()))', '((((()))(()))())', '((((()))(())))()', '((((()))()(())))', '((((()))()()()))', '((((()))()())())', '((((()))()()))()', '((((()))())(()))', '((((()))())()())', '((((()))())())()', '((((()))()))(())', '((((()))()))()()', '((((())))((())))', '((((())))(()()))', '((((())))(())())', '((((())))(()))()', '((((())))()(()))', '((((())))()()())', '((((())))()())()', '((((())))())(())', '((((())))())()()', '((((()))))((()))', '((((()))))(()())', '((((()))))(())()', '((((()))))()(())', '((((()))))()()()', '(((()(((()))))))', '(((()((()())))))', '(((()((())()))))', '(((()((()))())))', '(((()((())))()))', '(((()((()))))())', '(((()((())))))()', '(((()(()(())))))', '(((()(()()()))))', '(((()(()())())))', '(((()(()()))()))', '(((()(()())))())', '(((()(()()))))()', '(((()(())(()))))', '(((()(())()())))', '(((()(())())()))', '(((()(())()))())', '(((()(())())))()', '(((()(()))(())))', '(((()(()))()()))', '(((()(()))())())', '(((()(()))()))()', '(((()(())))(()))', '(((()(())))()())', '(((()(())))())()', '(((()(()))))(())', '(((()(()))))()()', '(((()()((())))))', '(((()()(()()))))', '(((()()(())())))', '(((()()(()))()))', '(((()()(())))())', '(((()()(()))))()', '(((()()()(()))))', '(((()()()()())))', '(((()()()())()))', '(((()()()()))())', '(((()()()())))()', '(((()()())(())))', '(((()()())()()))', '(((()()())())())', '(((()()())()))()', '(((()()()))(()))', '(((()()()))()())', '(((()()()))())()', '(((()()())))(())', '(((()()())))()()', '(((()())((()))))', '(((()())(()())))', '(((()())(())()))', '(((()())(()))())', '(((()())(())))()', '(((()())()(())))', '(((()())()()()))', '(((()())()())())', '(((()())()()))()', '(((()())())(()))', '(((()())())()())', '(((()())())())()', '(((()())()))(())', '(((()())()))()()', '(((()()))((())))', '(((()()))(()()))', '(((()()))(())())', '(((()()))(()))()', '(((()()))()(()))', '(((()()))()()())', '(((()()))()())()', '(((()()))())(())', '(((()()))())()()', '(((()())))((()))', '(((()())))(()())', '(((()())))(())()', '(((()())))()(())', '(((()())))()()()', '(((())(((())))))', '(((())((()()))))', '(((())((())())))', '(((())((()))()))', '(((())((())))())', '(((())((()))))()', '(((())(()(()))))', '(((())(()()())))', '(((())(()())()))', '(((())(()()))())', '(((())(()())))()', '(((())(())(())))', '(((())(())()()))', '(((())(())())())', '(((())(())()))()', '(((())(()))(()))', '(((())(()))()())', '(((())(()))())()', '(((())(())))(())', '(((())(())))()()', '(((())()((()))))', '(((())()(()())))', '(((())()(())()))', '(((())()(()))())', '(((())()(())))()', '(((())()()(())))', '(((())()()()()))', '(((())()()())())', '(((())()()()))()', '(((())()())(()))', '(((())()())()())', '(((())()())())()', '(((())()()))(())', '(((())()()))()()', '(((())())((())))', '(((())())(()()))', '(((())())(())())', '(((())())(()))()', '(((())())()(()))', '(((())())()()())', '(((())())()())()', '(((())())())(())', '(((())())())()()', '(((())()))((()))', '(((())()))(()())', '(((())()))(())()', '(((())()))()(())', '(((())()))()()()', '(((()))(((()))))', '(((()))((()())))', '(((()))((())()))', '(((()))((()))())', '(((()))((())))()', '(((()))(()(())))', '(((()))(()()()))', '(((()))(()())())', '(((()))(()()))()', '(((()))(())(()))', '(((()))(())()())', '(((()))(())())()', '(((()))(()))(())', '(((()))(()))()()', '(((()))()((())))', '(((()))()(()()))', '(((()))()(())())', '(((()))()(()))()', '(((()))()()(()))', '(((()))()()()())', '(((()))()()())()', '(((()))()())(())', '(((()))()())()()', '(((()))())((()))', '(((()))())(()())', '(((()))())(())()', '(((()))())()(())', '(((()))())()()()', '(((())))(((())))', '(((())))((()()))', '(((())))((())())', '(((())))((()))()', '(((())))(()(()))', '(((())))(()()())', '(((())))(()())()', '(((())))(())(())', '(((())))(())()()', '(((())))()((()))', '(((())))()(()())', '(((())))()(())()', '(((())))()()(())', '(((())))()()()()', '((()((((()))))))', '((()(((()())))))', '((()(((())()))))', '((()(((()))())))', '((()(((())))()))', '((()(((()))))())', '((()(((())))))()', '((()((()(())))))', '((()((()()()))))', '((()((()())())))', '((()((()()))()))', '((()((()())))())', '((()((()()))))()', '((()((())(()))))', '((()((())()())))', '((()((())())()))', '((()((())()))())', '((()((())())))()', '((()((()))(())))', '((()((()))()()))', '((()((()))())())', '((()((()))()))()', '((()((())))(()))', '((()((())))()())', '((()((())))())()', '((()((()))))(())', '((()((()))))()()', '((()(()((())))))', '((()(()(()()))))', '((()(()(())())))', '((()(()(()))()))', '((()(()(())))())', '((()(()(()))))()', '((()(()()(()))))', '((()(()()()())))', '((()(()()())()))', '((()(()()()))())', '((()(()()())))()', '((()(()())(())))', '((()(()())()()))', '((()(()())())())', '((()(()())()))()', '((()(()()))(()))', '((()(()()))()())', '((()(()()))())()', '((()(()())))(())', '((()(()())))()()', '((()(())((()))))', '((()(())(()())))', '((()(())(())()))', '((()(())(()))())', '((()(())(())))()', '((()(())()(())))', '((()(())()()()))', '((()(())()())())', '((()(())()()))()', '((()(())())(()))', '((()(())())()())', '((()(())())())()', '((()(())()))(())', '((()(())()))()()', '((()(()))((())))', '((()(()))(()()))', '((()(()))(())())', '((()(()))(()))()', '((()(()))()(()))', '((()(()))()()())', '((()(()))()())()', '((()(()))())(())', '((()(()))())()()', '((()(())))((()))', '((()(())))(()())', '((()(())))(())()', '((()(())))()(())', '((()(())))()()()', '((()()(((())))))', '((()()((()()))))', '((()()((())())))', '((()()((()))()))', '((()()((())))())', '((()()((()))))()', '((()()(()(()))))', '((()()(()()())))', '((()()(()())()))', '((()()(()()))())', '((()()(()())))()', '((()()(())(())))', '((()()(())()()))', '((()()(())())())', '((()()(())()))()', '((()()(()))(()))', '((()()(()))()())', '((()()(()))())()', '((()()(())))(())', '((()()(())))()()', '((()()()((()))))', '((()()()(()())))', '((()()()(())()))', '((()()()(()))())', '((()()()(())))()', '((()()()()(())))', '((()()()()()()))', '((()()()()())())', '((()()()()()))()', '((()()()())(()))', '((()()()())()())', '((()()()())())()', '((()()()()))(())', '((()()()()))()()', '((()()())((())))', '((()()())(()()))', '((()()())(())())', '((()()())(()))()', '((()()())()(()))', '((()()())()()())', '((()()())()())()', '((()()())())(())', '((()()())())()()', '((()()()))((()))', '((()()()))(()())', '((()()()))(())()', '((()()()))()(())', '((()()()))()()()', '((()())(((()))))', '((()())((()())))', '((()())((())()))', '((()())((()))())', '((()())((())))()', '((()())(()(())))', '((()())(()()()))', '((()())(()())())', '((()())(()()))()', '((()())(())(()))', '((()())(())()())', '((()())(())())()', '((()())(()))(())', '((()())(()))()()', '((()())()((())))', '((()())()(()()))', '((()())()(())())', '((()())()(()))()', '((()())()()(()))', '((()())()()()())', '((()())()()())()', '((()())()())(())', '((()())()())()()', '((()())())((()))', '((()())())(()())', '((()())())(())()', '((()())())()(())', '((()())())()()()', '((()()))(((())))', '((()()))((()()))', '((()()))((())())', '((()()))((()))()', '((()()))(()(()))', '((()()))(()()())', '((()()))(()())()', '((()()))(())(())', '((()()))(())()()', '((()()))()((()))', '((()()))()(()())', '((()()))()(())()', '((()()))()()(())', '((()()))()()()()', '((())((((())))))', '((())(((()()))))', '((())(((())())))', '((())(((()))()))', '((())(((())))())', '((())(((()))))()', '((())((()(()))))', '((())((()()())))', '((())((()())()))', '((())((()()))())', '((())((()())))()', '((())((())(())))', '((())((())()()))', '((())((())())())', '((())((())()))()', '((())((()))(()))', '((())((()))()())', '((())((()))())()', '((())((())))(())', '((())((())))()()', '((())(()((()))))', '((())(()(()())))', '((())(()(())()))', '((())(()(()))())', '((())(()(())))()', '((())(()()(())))', '((())(()()()()))', '((())(()()())())', '((())(()()()))()', '((())(()())(()))', '((())(()())()())', '((())(()())())()', '((())(()()))(())', '((())(()()))()()', '((())(())((())))', '((())(())(()()))', '((())(())(())())', '((())(())(()))()', '((())(())()(()))', '((())(())()()())', '((())(())()())()', '((())(())())(())', '((())(())())()()', '((())(()))((()))', '((())(()))(()())', '((())(()))(())()', '((())(()))()(())', '((())(()))()()()', '((())()(((()))))', '((())()((()())))', '((())()((())()))', '((())()((()))())', '((())()((())))()', '((())()(()(())))', '((())()(()()()))', '((())()(()())())', '((())()(()()))()', '((())()(())(()))', '((())()(())()())', '((())()(())())()', '((())()(()))(())', '((())()(()))()()', '((())()()((())))', '((())()()(()()))', '((())()()(())())', '((())()()(()))()', '((())()()()(()))', '((())()()()()())', '((())()()()())()', '((())()()())(())', '((())()()())()()', '((())()())((()))', '((())()())(()())', '((())()())(())()', '((())()())()(())', '((())()())()()()', '((())())(((())))', '((())())((()()))', '((())())((())())', '((())())((()))()', '((())())(()(()))', '((())())(()()())', '((())())(()())()', '((())())(())(())', '((())())(())()()', '((())())()((()))', '((())())()(()())', '((())())()(())()', '((())())()()(())', '((())())()()()()', '((()))((((()))))', '((()))(((()())))', '((()))(((())()))', '((()))(((()))())', '((()))(((())))()', '((()))((()(())))', '((()))((()()()))', '((()))((()())())', '((()))((()()))()', '((()))((())(()))', '((()))((())()())', '((()))((())())()', '((()))((()))(())', '((()))((()))()()', '((()))(()((())))', '((()))(()(()()))', '((()))(()(())())', '((()))(()(()))()', '((()))(()()(()))', '((()))(()()()())', '((()))(()()())()', '((()))(()())(())', '((()))(()())()()', '((()))(())((()))', '((()))(())(()())', '((()))(())(())()', '((()))(())()(())', '((()))(())()()()', '((()))()(((())))', '((()))()((()()))', '((()))()((())())', '((()))()((()))()', '((()))()(()(()))', '((()))()(()()())', '((()))()(()())()', '((()))()(())(())', '((()))()(())()()', '((()))()()((()))', '((()))()()(()())', '((()))()()(())()', '((()))()()()(())', '((()))()()()()()', '(()(((((()))))))', '(()((((()())))))', '(()((((())()))))', '(()((((()))())))', '(()((((())))()))', '(()((((()))))())', '(()((((())))))()', '(()(((()(())))))', '(()(((()()()))))', '(()(((()())())))', '(()(((()()))()))', '(()(((()())))())', '(()(((()()))))()', '(()(((())(()))))', '(()(((())()())))', '(()(((())())()))', '(()(((())()))())', '(()(((())())))()', '(()(((()))(())))', '(()(((()))()()))', '(()(((()))())())', '(()(((()))()))()', '(()(((())))(()))', '(()(((())))()())', '(()(((())))())()', '(()(((()))))(())', '(()(((()))))()()', '(()((()((())))))', '(()((()(()()))))', '(()((()(())())))', '(()((()(()))()))', '(()((()(())))())', '(()((()(()))))()', '(()((()()(()))))', '(()((()()()())))', '(()((()()())()))', '(()((()()()))())', '(()((()()())))()', '(()((()())(())))', '(()((()())()()))', '(()((()())())())', '(()((()())()))()', '(()((()()))(()))', '(()((()()))()())', '(()((()()))())()', '(()((()())))(())', '(()((()())))()()', '(()((())((()))))', '(()((())(()())))', '(()((())(())()))', '(()((())(()))())', '(()((())(())))()', '(()((())()(())))', '(()((())()()()))', '(()((())()())())', '(()((())()()))()', '(()((())())(()))', '(()((())())()())', '(()((())())())()', '(()((())()))(())', '(()((())()))()()', '(()((()))((())))', '(()((()))(()()))', '(()((()))(())())', '(()((()))(()))()', '(()((()))()(()))', '(()((()))()()())', '(()((()))()())()', '(()((()))())(())', '(()((()))())()()', '(()((())))((()))', '(()((())))(()())', '(()((())))(())()', '(()((())))()(())', '(()((())))()()()', '(()(()(((())))))', '(()(()((()()))))', '(()(()((())())))', '(()(()((()))()))', '(()(()((())))())', '(()(()((()))))()', '(()(()(()(()))))', '(()(()(()()())))', '(()(()(()())()))', '(()(()(()()))())', '(()(()(()())))()', '(()(()(())(())))', '(()(()(())()()))', '(()(()(())())())', '(()(()(())()))()', '(()(()(()))(()))', '(()(()(()))()())', '(()(()(()))())()', '(()(()(())))(())', '(()(()(())))()()', '(()(()()((()))))', '(()(()()(()())))', '(()(()()(())()))', '(()(()()(()))())', '(()(()()(())))()', '(()(()()()(())))', '(()(()()()()()))', '(()(()()()())())', '(()(()()()()))()', '(()(()()())(()))', '(()(()()())()())', '(()(()()())())()', '(()(()()()))(())', '(()(()()()))()()', '(()(()())((())))', '(()(()())(()()))', '(()(()())(())())', '(()(()())(()))()', '(()(()())()(()))', '(()(()())()()())', '(()(()())()())()', '(()(()())())(())', '(()(()())())()()', '(()(()()))((()))', '(()(()()))(()())', '(()(()()))(())()', '(()(()()))()(())', '(()(()()))()()()', '(()(())(((()))))', '(()(())((()())))', '(()(())((())()))', '(()(())((()))())', '(()(())((())))()', '(()(())(()(())))', '(()(())(()()()))', '(()(())(()())())', '(()(())(()()))()', '(()(())(())(()))', '(()(())(())()())', '(()(())(())())()', '(()(())(()))(())', '(()(())(()))()()', '(()(())()((())))', '(()(())()(()()))', '(()(())()(())())', '(()(())()(()))()', '(()(())()()(()))', '(()(())()()()())', '(()(())()()())()', '(()(())()())(())', '(()(())()())()()', '(()(())())((()))', '(()(())())(()())', '(()(())())(())()', '(()(())())()(())', '(()(())())()()()', '(()(()))(((())))', '(()(()))((()()))', '(()(()))((())())', '(()(()))((()))()', '(()(()))(()(()))', '(()(()))(()()())', '(()(()))(()())()', '(()(()))(())(())', '(()(()))(())()()', '(()(()))()((()))', '(()(()))()(()())', '(()(()))()(())()', '(()(()))()()(())', '(()(()))()()()()', '(()()((((())))))', '(()()(((()()))))', '(()()(((())())))', '(()()(((()))()))', '(()()(((())))())', '(()()(((()))))()', '(()()((()(()))))', '(()()((()()())))', '(()()((()())()))', '(()()((()()))())', '(()()((()())))()', '(()()((())(())))', '(()()((())()()))', '(()()((())())())', '(()()((())()))()', '(()()((()))(()))', '(()()((()))()())', '(()()((()))())()', '(()()((())))(())', '(()()((())))()()', '(()()(()((()))))', '(()()(()(()())))', '(()()(()(())()))', '(()()(()(()))())', '(()()(()(())))()', '(()()(()()(())))', '(()()(()()()()))', '(()()(()()())())', '(()()(()()()))()', '(()()(()())(()))', '(()()(()())()())', '(()()(()())())()', '(()()(()()))(())', '(()()(()()))()()', '(()()(())((())))', '(()()(())(()()))', '(()()(())(())())', '(()()(())(()))()', '(()()(())()(()))', '(()()(())()()())', '(()()(())()())()', '(()()(())())(())', '(()()(())())()()', '(()()(()))((()))', '(()()(()))(()())', '(()()(()))(())()', '(()()(()))()(())', '(()()(()))()()()', '(()()()(((()))))', '(()()()((()())))', '(()()()((())()))', '(()()()((()))())', '(()()()((())))()', '(()()()(()(())))', '(()()()(()()()))', '(()()()(()())())', '(()()()(()()))()', '(()()()(())(()))', '(()()()(())()())', '(()()()(())())()', '(()()()(()))(())', '(()()()(()))()()', '(()()()()((())))', '(()()()()(()()))', '(()()()()(())())', '(()()()()(()))()', '(()()()()()(()))', '(()()()()()()())', '(()()()()()())()', '(()()()()())(())', '(()()()()())()()', '(()()()())((()))', '(()()()())(()())', '(()()()())(())()', '(()()()())()(())', '(()()()())()()()', '(()()())(((())))', '(()()())((()()))', '(()()())((())())', '(()()())((()))()', '(()()())(()(()))', '(()()())(()()())', '(()()())(()())()', '(()()())(())(())', '(()()())(())()()', '(()()())()((()))', '(()()())()(()())', '(()()())()(())()', '(()()())()()(())', '(()()())()()()()', '(()())((((()))))', '(()())(((()())))', '(()())(((())()))', '(()())(((()))())', '(()())(((())))()', '(()())((()(())))', '(()())((()()()))', '(()())((()())())', '(()())((()()))()', '(()())((())(()))', '(()())((())()())', '(()())((())())()', '(()())((()))(())', '(()())((()))()()', '(()())(()((())))', '(()())(()(()()))', '(()())(()(())())', '(()())(()(()))()', '(()())(()()(()))', '(()())(()()()())', '(()())(()()())()', '(()())(()())(())', '(()())(()())()()', '(()())(())((()))', '(()())(())(()())', '(()())(())(())()', '(()())(())()(())', '(()())(())()()()', '(()())()(((())))', '(()())()((()()))', '(()())()((())())', '(()())()((()))()', '(()())()(()(()))', '(()())()(()()())', '(()())()(()())()', '(()())()(())(())', '(()())()(())()()', '(()())()()((()))', '(()())()()(()())', '(()())()()(())()', '(()())()()()(())', '(()())()()()()()', '(())(((((())))))', '(())((((()()))))', '(())((((())())))', '(())((((()))()))', '(())((((())))())', '(())((((()))))()', '(())(((()(()))))', '(())(((()()())))', '(())(((()())()))', '(())(((()()))())', '(())(((()())))()', '(())(((())(())))', '(())(((())()()))', '(())(((())())())', '(())(((())()))()', '(())(((()))(()))', '(())(((()))()())', '(())(((()))())()', '(())(((())))(())', '(())(((())))()()', '(())((()((()))))', '(())((()(()())))', '(())((()(())()))', '(())((()(()))())', '(())((()(())))()', '(())((()()(())))', '(())((()()()()))', '(())((()()())())', '(())((()()()))()', '(())((()())(()))', '(())((()())()())', '(())((()())())()', '(())((()()))(())', '(())((()()))()()', '(())((())((())))', '(())((())(()()))', '(())((())(())())', '(())((())(()))()', '(())((())()(()))', '(())((())()()())', '(())((())()())()', '(())((())())(())', '(())((())())()()', '(())((()))((()))', '(())((()))(()())', '(())((()))(())()', '(())((()))()(())', '(())((()))()()()', '(())(()(((()))))', '(())(()((()())))', '(())(()((())()))', '(())(()((()))())', '(())(()((())))()', '(())(()(()(())))', '(())(()(()()()))', '(())(()(()())())', '(())(()(()()))()', '(())(()(())(()))', '(())(()(())()())', '(())(()(())())()', '(())(()(()))(())', '(())(()(()))()()', '(())(()()((())))', '(())(()()(()()))', '(())(()()(())())', '(())(()()(()))()', '(())(()()()(()))', '(())(()()()()())', '(())(()()()())()', '(())(()()())(())', '(())(()()())()()', '(())(()())((()))', '(())(()())(()())', '(())(()())(())()', '(())(()())()(())', '(())(()())()()()', '(())(())(((())))', '(())(())((()()))', '(())(())((())())', '(())(())((()))()', '(())(())(()(()))', '(())(())(()()())', '(())(())(()())()', '(())(())(())(())', '(())(())(())()()', '(())(())()((()))', '(())(())()(()())', '(())(())()(())()', '(())(())()()(())', '(())(())()()()()', '(())()((((()))))', '(())()(((()())))', '(())()(((())()))', '(())()(((()))())', '(())()(((())))()', '(())()((()(())))', '(())()((()()()))', '(())()((()())())', '(())()((()()))()', '(())()((())(()))', '(())()((())()())', '(())()((())())()', '(())()((()))(())', '(())()((()))()()', '(())()(()((())))', '(())()(()(()()))', '(())()(()(())())', '(())()(()(()))()', '(())()(()()(()))', '(())()(()()()())', '(())()(()()())()', '(())()(()())(())', '(())()(()())()()', '(())()(())((()))', '(())()(())(()())', '(())()(())(())()', '(())()(())()(())', '(())()(())()()()', '(())()()(((())))', '(())()()((()()))', '(())()()((())())', '(())()()((()))()', '(())()()(()(()))', '(())()()(()()())', '(())()()(()())()', '(())()()(())(())', '(())()()(())()()', '(())()()()((()))', '(())()()()(()())', '(())()()()(())()', '(())()()()()(())', '(())()()()()()()', '()((((((()))))))', '()(((((()())))))', '()(((((())()))))', '()(((((()))())))', '()(((((())))()))', '()(((((()))))())', '()(((((())))))()', '()((((()(())))))', '()((((()()()))))', '()((((()())())))', '()((((()()))()))', '()((((()())))())', '()((((()()))))()', '()((((())(()))))', '()((((())()())))', '()((((())())()))', '()((((())()))())', '()((((())())))()', '()((((()))(())))', '()((((()))()()))', '()((((()))())())', '()((((()))()))()', '()((((())))(()))', '()((((())))()())', '()((((())))())()', '()((((()))))(())', '()((((()))))()()', '()(((()((())))))', '()(((()(()()))))', '()(((()(())())))', '()(((()(()))()))', '()(((()(())))())', '()(((()(()))))()', '()(((()()(()))))', '()(((()()()())))', '()(((()()())()))', '()(((()()()))())', '()(((()()())))()', '()(((()())(())))', '()(((()())()()))', '()(((()())())())', '()(((()())()))()', '()(((()()))(()))', '()(((()()))()())', '()(((()()))())()', '()(((()())))(())', '()(((()())))()()', '()(((())((()))))', '()(((())(()())))', '()(((())(())()))', '()(((())(()))())', '()(((())(())))()', '()(((())()(())))', '()(((())()()()))', '()(((())()())())', '()(((())()()))()', '()(((())())(()))', '()(((())())()())', '()(((())())())()', '()(((())()))(())', '()(((())()))()()', '()(((()))((())))', '()(((()))(()()))', '()(((()))(())())', '()(((()))(()))()', '()(((()))()(()))', '()(((()))()()())', '()(((()))()())()', '()(((()))())(())', '()(((()))())()()', '()(((())))((()))', '()(((())))(()())', '()(((())))(())()', '()(((())))()(())', '()(((())))()()()', '()((()(((())))))', '()((()((()()))))', '()((()((())())))', '()((()((()))()))', '()((()((())))())', '()((()((()))))()', '()((()(()(()))))', '()((()(()()())))', '()((()(()())()))', '()((()(()()))())', '()((()(()())))()', '()((()(())(())))', '()((()(())()()))', '()((()(())())())', '()((()(())()))()', '()((()(()))(()))', '()((()(()))()())', '()((()(()))())()', '()((()(())))(())', '()((()(())))()()', '()((()()((()))))', '()((()()(()())))', '()((()()(())()))', '()((()()(()))())', '()((()()(())))()', '()((()()()(())))', '()((()()()()()))', '()((()()()())())', '()((()()()()))()', '()((()()())(()))', '()((()()())()())', '()((()()())())()', '()((()()()))(())', '()((()()()))()()', '()((()())((())))', '()((()())(()()))', '()((()())(())())', '()((()())(()))()', '()((()())()(()))', '()((()())()()())', '()((()())()())()', '()((()())())(())', '()((()())())()()', '()((()()))((()))', '()((()()))(()())', '()((()()))(())()', '()((()()))()(())', '()((()()))()()()', '()((())(((()))))', '()((())((()())))', '()((())((())()))', '()((())((()))())', '()((())((())))()', '()((())(()(())))', '()((())(()()()))', '()((())(()())())', '()((())(()()))()', '()((())(())(()))', '()((())(())()())', '()((())(())())()', '()((())(()))(())', '()((())(()))()()', '()((())()((())))', '()((())()(()()))', '()((())()(())())', '()((())()(()))()', '()((())()()(()))', '()((())()()()())', '()((())()()())()', '()((())()())(())', '()((())()())()()', '()((())())((()))', '()((())())(()())', '()((())())(())()', '()((())())()(())', '()((())())()()()', '()((()))(((())))', '()((()))((()()))', '()((()))((())())', '()((()))((()))()', '()((()))(()(()))', '()((()))(()()())', '()((()))(()())()', '()((()))(())(())', '()((()))(())()()', '()((()))()((()))', '()((()))()(()())', '()((()))()(())()', '()((()))()()(())', '()((()))()()()()', '()(()((((())))))', '()(()(((()()))))', '()(()(((())())))', '()(()(((()))()))', '()(()(((())))())', '()(()(((()))))()', '()(()((()(()))))', '()(()((()()())))', '()(()((()())()))', '()(()((()()))())', '()(()((()())))()', '()(()((())(())))', '()(()((())()()))', '()(()((())())())', '()(()((())()))()', '()(()((()))(()))', '()(()((()))()())', '()(()((()))())()', '()(()((())))(())', '()(()((())))()()', '()(()(()((()))))', '()(()(()(()())))', '()(()(()(())()))', '()(()(()(()))())', '()(()(()(())))()', '()(()(()()(())))', '()(()(()()()()))', '()(()(()()())())', '()(()(()()()))()', '()(()(()())(()))', '()(()(()())()())', '()(()(()())())()', '()(()(()()))(())', '()(()(()()))()()', '()(()(())((())))', '()(()(())(()()))', '()(()(())(())())', '()(()(())(()))()', '()(()(())()(()))', '()(()(())()()())', '()(()(())()())()', '()(()(())())(())', '()(()(())())()()', '()(()(()))((()))', '()(()(()))(()())', '()(()(()))(())()', '()(()(()))()(())', '()(()(()))()()()', '()(()()(((()))))', '()(()()((()())))', '()(()()((())()))', '()(()()((()))())', '()(()()((())))()', '()(()()(()(())))', '()(()()(()()()))', '()(()()(()())())', '()(()()(()()))()', '()(()()(())(()))', '()(()()(())()())', '()(()()(())())()', '()(()()(()))(())', '()(()()(()))()()', '()(()()()((())))', '()(()()()(()()))', '()(()()()(())())', '()(()()()(()))()', '()(()()()()(()))', '()(()()()()()())', '()(()()()()())()', '()(()()()())(())', '()(()()()())()()', '()(()()())((()))', '()(()()())(()())', '()(()()())(())()', '()(()()())()(())', '()(()()())()()()', '()(()())(((())))', '()(()())((()()))', '()(()())((())())', '()(()())((()))()', '()(()())(()(()))', '()(()())(()()())', '()(()())(()())()', '()(()())(())(())', '()(()())(())()()', '()(()())()((()))', '()(()())()(()())', '()(()())()(())()', '()(()())()()(())', '()(()())()()()()', '()(())((((()))))', '()(())(((()())))', '()(())(((())()))', '()(())(((()))())', '()(())(((())))()', '()(())((()(())))', '()(())((()()()))', '()(())((()())())', '()(())((()()))()', '()(())((())(()))', '()(())((())()())', '()(())((())())()', '()(())((()))(())', '()(())((()))()()', '()(())(()((())))', '()(())(()(()()))', '()(())(()(())())', '()(())(()(()))()', '()(())(()()(()))', '()(())(()()()())', '()(())(()()())()', '()(())(()())(())', '()(())(()())()()', '()(())(())((()))', '()(())(())(()())', '()(())(())(())()', '()(())(())()(())', '()(())(())()()()', '()(())()(((())))', '()(())()((()()))', '()(())()((())())', '()(())()((()))()', '()(())()(()(()))', '()(())()(()()())', '()(())()(()())()', '()(())()(())(())', '()(())()(())()()', '()(())()()((()))', '()(())()()(()())', '()(())()()(())()', '()(())()()()(())', '()(())()()()()()', '()()(((((())))))', '()()((((()()))))', '()()((((())())))', '()()((((()))()))', '()()((((())))())', '()()((((()))))()', '()()(((()(()))))', '()()(((()()())))', '()()(((()())()))', '()()(((()()))())', '()()(((()())))()', '()()(((())(())))', '()()(((())()()))', '()()(((())())())', '()()(((())()))()', '()()(((()))(()))', '()()(((()))()())', '()()(((()))())()', '()()(((())))(())', '()()(((())))()()', '()()((()((()))))', '()()((()(()())))', '()()((()(())()))', '()()((()(()))())', '()()((()(())))()', '()()((()()(())))', '()()((()()()()))', '()()((()()())())', '()()((()()()))()', '()()((()())(()))', '()()((()())()())', '()()((()())())()', '()()((()()))(())', '()()((()()))()()', '()()((())((())))', '()()((())(()()))', '()()((())(())())', '()()((())(()))()', '()()((())()(()))', '()()((())()()())', '()()((())()())()', '()()((())())(())', '()()((())())()()', '()()((()))((()))', '()()((()))(()())', '()()((()))(())()', '()()((()))()(())', '()()((()))()()()', '()()(()(((()))))', '()()(()((()())))', '()()(()((())()))', '()()(()((()))())', '()()(()((())))()', '()()(()(()(())))', '()()(()(()()()))', '()()(()(()())())', '()()(()(()()))()', '()()(()(())(()))', '()()(()(())()())', '()()(()(())())()', '()()(()(()))(())', '()()(()(()))()()', '()()(()()((())))', '()()(()()(()()))', '()()(()()(())())', '()()(()()(()))()', '()()(()()()(()))', '()()(()()()()())', '()()(()()()())()', '()()(()()())(())', '()()(()()())()()', '()()(()())((()))', '()()(()())(()())', '()()(()())(())()', '()()(()())()(())', '()()(()())()()()', '()()(())(((())))', '()()(())((()()))', '()()(())((())())', '()()(())((()))()', '()()(())(()(()))', '()()(())(()()())', '()()(())(()())()', '()()(())(())(())', '()()(())(())()()', '()()(())()((()))', '()()(())()(()())', '()()(())()(())()', '()()(())()()(())', '()()(())()()()()', '()()()((((()))))', '()()()(((()())))', '()()()(((())()))', '()()()(((()))())', '()()()(((())))()', '()()()((()(())))', '()()()((()()()))', '()()()((()())())', '()()()((()()))()', '()()()((())(()))', '()()()((())()())', '()()()((())())()', '()()()((()))(())', '()()()((()))()()', '()()()(()((())))', '()()()(()(()()))', '()()()(()(())())', '()()()(()(()))()', '()()()(()()(()))', '()()()(()()()())', '()()()(()()())()', '()()()(()())(())', '()()()(()())()()', '()()()(())((()))', '()()()(())(()())', '()()()(())(())()', '()()()(())()(())', '()()()(())()()()', '()()()()(((())))', '()()()()((()()))', '()()()()((())())', '()()()()((()))()', '()()()()(()(()))', '()()()()(()()())', '()()()()(()())()', '()()()()(())(())', '()()()()(())()()', '()()()()()((()))', '()()()()()(()())', '()()()()()(())()', '()()()()()()(())', '()()()()()()()()']\n"
     ]
    }
   ],
   "source": [
    "#decision tree=> Each time it runs it branches out because it runs function twice as long as conditions satisfies \n",
    "#and saves temp data for manipulation and pass it down the tree. The branch ends when the temp reaches base condition\n",
    "#and temp data appends onto output\n",
    "#comes with a base scenario + conditions that checks whether current satisfies condition\n",
    "n = 8\n",
    "def genparen(output,temp,open_p,close_p,n):\n",
    "    if len(temp)==n*2: ##base case that marks where the branch ends: when length is == n*2 \n",
    "        output.append(temp) ##appends the temp\n",
    "    if open_p<n: #open scenario branching\n",
    "        genparen(output,temp+'(',open_p+1,close_p,n) \n",
    "        ##doesnt need to set value anything, just need to run it and it will append to the variable \"output\"\n",
    "    if close_p<open_p:#close scenario branching\n",
    "        genparen(output,temp+')',open_p,close_p+1,n)\n",
    "    return output\n",
    "ans= genparen([],'',0,0,n)\n",
    "print(ans)"
   ]
  },
  {
   "cell_type": "markdown",
   "metadata": {},
   "source": [
    "# Problem 24: Swap Nodes in Pairs (completed) r"
   ]
  },
  {
   "cell_type": "code",
   "execution_count": null,
   "metadata": {},
   "outputs": [],
   "source": [
    "class Solution:\n",
    "    def swapPairs(self, head: ListNode) -> ListNode:\n",
    "        link=head\n",
    "        n=0\n",
    "        if head==None: ##when list node has nothing\n",
    "            return head\n",
    "        while True: \n",
    "            n+=1 #count to see if its even \n",
    "            if link.next==None: #base case \n",
    "                return head\n",
    "            elif n%2!=0: #non base case and its even \n",
    "                link.val,link.next.val=link.next.val,link.val\n",
    "                link=link.next\n",
    "            else: #move forward \n",
    "                link=link.next"
   ]
  },
  {
   "cell_type": "markdown",
   "metadata": {},
   "source": [
    "# Problem 26: Remove Duplicates from Sorted Array (completed) x"
   ]
  },
  {
   "cell_type": "code",
   "execution_count": 10,
   "metadata": {},
   "outputs": [
    {
     "name": "stdout",
     "output_type": "stream",
     "text": [
      "[1, 2]\n"
     ]
    }
   ],
   "source": [
    "#simple solution that the program wont accept\n",
    "nums=[1,1,2]\n",
    "\n",
    "a=set(nums)\n",
    "a=list(a)\n",
    "print(len(a))"
   ]
  },
  {
   "cell_type": "code",
   "execution_count": null,
   "metadata": {},
   "outputs": [],
   "source": [
    "#slower solution that the program accepts\n",
    "class Solution:\n",
    "    def removeDuplicates(self, nums: List[int]) -> int:\n",
    "        i=0\n",
    "        while True:\n",
    "            if i>=len(nums)-1:\n",
    "                break\n",
    "            elif nums[i]==nums[i+1]:\n",
    "                nums.pop(i+1)\n",
    "            else:\n",
    "                i+=1\n",
    "                \n",
    "        return len(nums)"
   ]
  },
  {
   "cell_type": "markdown",
   "metadata": {},
   "source": [
    "# Problem 27: Remove Element (completed) x"
   ]
  },
  {
   "cell_type": "code",
   "execution_count": 1,
   "metadata": {},
   "outputs": [],
   "source": [
    "##Initial two line solution:\n",
    "class Solution:\n",
    "    def removeElement(self, nums: List[int], val: int) -> int:\n",
    "        while val in nums:\n",
    "            nums.remove(val)\n",
    "        return len(nums)"
   ]
  },
  {
   "cell_type": "code",
   "execution_count": null,
   "metadata": {},
   "outputs": [],
   "source": [
    "#basic function solution\n",
    "class Solution:\n",
    "    def removeElement(self, nums: List[int], val: int) -> int:\n",
    "        i=0\n",
    "        while val in nums:\n",
    "            if nums[i]!=val:\n",
    "                i+=1\n",
    "            else:\n",
    "                nums.pop(i)\n",
    "        return i"
   ]
  },
  {
   "cell_type": "markdown",
   "metadata": {},
   "source": [
    "# Problem 28. Implement strStr() (completed)"
   ]
  },
  {
   "cell_type": "code",
   "execution_count": 11,
   "metadata": {},
   "outputs": [
    {
     "name": "stdout",
     "output_type": "stream",
     "text": [
      "0\n",
      "-1\n"
     ]
    }
   ],
   "source": [
    "haystack='a'\n",
    "needle='a'\n",
    "\n",
    "counter=0\n",
    "neelen=len(needle)\n",
    "haylen=len(haystack)\n",
    "        \n",
    "        \n",
    "if neelen<1:\n",
    "    print(0)\n",
    "elif neelen>haylen:\n",
    "    print(-1)\n",
    "\n",
    "for i in range(haylen-neelen+1):\n",
    "    for j in range(neelen):\n",
    "        if haystack[i+j]==needle[j]:\n",
    "                    counter+=1\n",
    "        else:\n",
    "            counter=0\n",
    "            break\n",
    "        if counter==neelen:\n",
    "            output=i\n",
    "            print(output)\n",
    "print(-1)"
   ]
  },
  {
   "cell_type": "markdown",
   "metadata": {},
   "source": [
    "# Problem 29: Divide Two Integers (completed) x"
   ]
  },
  {
   "cell_type": "code",
   "execution_count": 38,
   "metadata": {},
   "outputs": [
    {
     "name": "stdout",
     "output_type": "stream",
     "text": [
      "1\n",
      "1\n"
     ]
    }
   ],
   "source": [
    "#naive approach (Takes too long in scenarios like 200000000/2)\n",
    "dividend=-1;divisor=-1 #prompt\n",
    "\n",
    "d1=dividend;d2=divisor #subbed to reduce typing time \n",
    "d1neg=False;d2neg=False\n",
    "ans=0\n",
    "\n",
    "if d1<0: #neg detectors\n",
    "    d1=d1-d1-d1\n",
    "    d1neg=True\n",
    "if d2<0:\n",
    "    d2=d2-d2-d2\n",
    "    d2neg=True\n",
    "\n",
    "while (d1-d2)>=0: #this part can be improved\n",
    "    print(d1)\n",
    "    d1=d1-d2\n",
    "    ans+=1\n",
    "    \n",
    "if d1neg!=d2neg:\n",
    "    ans=ans-ans-ans\n",
    "print(ans)"
   ]
  },
  {
   "cell_type": "code",
   "execution_count": 54,
   "metadata": {},
   "outputs": [
    {
     "name": "stdout",
     "output_type": "stream",
     "text": [
      "100000\n"
     ]
    }
   ],
   "source": [
    "#binary division (big reduce time)\n",
    "def mynegfunc(d1,d2):\n",
    "    if d1<0: #neg detectors\n",
    "        d1=d1-d1-d1\n",
    "        d1neg=True\n",
    "    if d2<0:\n",
    "        d2=d2-d2-d2\n",
    "        d2neg=True\n",
    "    return [d1,d2,d1neg,d2neg]\n",
    "\n",
    "dividend=-200000;divisor=-2 #prompt\n",
    "\n",
    "d1=dividend;d2=divisor #subbed to reduce typing time \n",
    "d1neg=False;d2neg=False\n",
    "ans=0\n",
    "\n",
    "#neg detectors and sign flipper\n",
    "if d1<0:\n",
    "    d1=d1-d1-d1\n",
    "    d1neg=True\n",
    "if d2<0:\n",
    "    d2=d2-d2-d2\n",
    "    d2neg=True\n",
    "#time costant O(1) so far\n",
    "\n",
    "#Binary division\n",
    "while (d1-d2)>=0:\n",
    "    amp=1;d1amp=d2 #d1 amplified, amp is amplifier(1,2,4,8)\n",
    "    #resets after every loop to find the next smallest d1amp\n",
    "    while d1>(d1amp+d1amp):\n",
    "        d1amp+=d1amp #divisor amplifies as amplifier amplifies\n",
    "        amp+=amp\n",
    "            \n",
    "    d1=d1-d1amp #update dividend\n",
    "    ans+=amp #this records amp as amp represents # of divisors present in amplifier\n",
    "#unknown time constant\n",
    "\n",
    "\n",
    "#ans sign flipper if +- or -+\n",
    "if d1neg!=d2neg: \n",
    "    ans=ans-ans-ans\n",
    "#incase of overflow\n",
    "if ans>2147483647:\n",
    "    ans=2147483647\n",
    "print(ans)"
   ]
  },
  {
   "cell_type": "markdown",
   "metadata": {},
   "source": [
    "# Problem 31: Next Permutation"
   ]
  },
  {
   "cell_type": "code",
   "execution_count": 72,
   "metadata": {},
   "outputs": [
    {
     "name": "stdout",
     "output_type": "stream",
     "text": [
      "[5, 1, 1]\n"
     ]
    }
   ],
   "source": [
    "#Prompt:\n",
    "#Implement next permutation, which rearranges numbers into the lexicographically next greater permutation of numbers.\n",
    "#If such an arrangement is not possible, it must rearrange it as the lowest possible order \n",
    "#(i.e., sorted in ascending order).\n",
    "#The replacement must be in place and use only constant extra memory.\n",
    "\n",
    "#what is lexicographically? confusing right?\n",
    "\n",
    "#the prompt is very confusing but the goal here is to increase the number formed by the list by as little as u can\n",
    "#unless u cant, which case u will do a complete miminization/reversion\n",
    "#by swaping numbers in list(took me 3 hr into coding this to understand the real goal after seeing a post for explaination...)\n",
    "nums=[1,5,1]\n",
    "ans=[5,1,1]\n",
    "\n",
    "def nextPermutation(nums):  \n",
    "    \n",
    "    if len(nums)<2: #invalid cases\n",
    "        return nums\n",
    "\n",
    "#the biggest number fromed by int in the list is when all the orders are sorted decending order left to right... \n",
    "#we will look from the smollest digit to largest to see whether sequence is sorted that way. \n",
    "#If yes, we have to reverse entire thing since we cant increase it\n",
    "#if not, that means we can do some swap and bigger it a little bit\n",
    "\n",
    "#then first we must find the number we need to swap: any number that is out of order when we see to sort it from big to smol\n",
    "#in this case it will be the smallest out of order digit we encounter since we also need to minimize the diff post change\n",
    "#if we pick a bigger out of order digit, we will either not min dif change or just make num smoller \n",
    "\n",
    "#then we need to figure out which number to swap to. We have a few options\n",
    "#bigger nums in higher digits: not possible because if digits ahead are bigger then we just made the num smaller by swap\n",
    "#smol nums in higher digits: it makes num bigger but there is a better choice than this since we wnana min change\n",
    "#smol nums in the past: nope, makes num smoller\n",
    "#bigger nums in the past: yes but which one to min impact?\n",
    "\n",
    "##to min impact to slot selected digit, find in the past that is slightly bigger (but not smoller as that make num smol)\n",
    "##that means we reverse check back to see which num that is and do the swap\n",
    "\n",
    "##once we swap, that means the num is not bigger and nums before swapped digit will be in big to smoll order\n",
    "##since new digit already bigger, whatever we do in the digits before the swapped digit would not make the num smaller than before\n",
    "##this way we can just make it in ascending order, minimizing num\n",
    "#then we done :D\n",
    "\n",
    "    upperlimit=len(nums)-1 #MIN runtime\n",
    "    i1=upperlimit;ind=None\n",
    "    while upperlimit>=i1>0: #loop through the list from the end to start\n",
    "        i2=i1-1 #initialize left pointer 2  #MIN\n",
    "        if ind!=None: ##see line 49 first \n",
    "            if nums[ind]>=nums[i1]: #see if pointer on right is smoller, we know left things big, left pointer is target 2 if yes\n",
    "                nums[ind],nums[i2]=nums[i2],nums[ind]\n",
    "                break \n",
    "            elif i1==upperlimit: #everything in the smol digits are bigger, we will take the least biggest one (hence last one) \n",
    "                nums[ind],nums[i1]=nums[i1],nums[ind]\n",
    "                break\n",
    "            i1+=1 #just counters for progression moving to the right after known target higher digit\n",
    "        elif nums[i2]<nums[i1]: #comparing if next pointer is targeted higher digit: first one out of decending order L2R\n",
    "            ind=i2\n",
    "        else:\n",
    "            i1-=1 #before we know target higher digit\n",
    "\n",
    "    if ind==None: #we never found a target higher digit, which means everything is decending order\n",
    "        ind=0 #starting pt to 0 to just reverse the whole thing\n",
    "    else:\n",
    "        ind+=1 #just some calibration to select the right starting pt if THD is found\n",
    "        \n",
    "    #since nums before the ind (candidate for swap) is already from largest to smollest, \n",
    "    #we reverse that chunk to min number after swap to min num\n",
    "    nums=reverse(nums,upperlimit,ind) \n",
    "    return nums \n",
    "\n",
    "def reverse(nums,end,start):\n",
    "    i=0\n",
    "    mid=(end-start)/2\n",
    "    while i<=mid:\n",
    "        p1=end-i;p2=start+i\n",
    "        nums[p1],nums[p2]=nums[p2],nums[p1]\n",
    "        i+=1\n",
    "    return nums\n",
    "\n",
    "print(nextPermutation(nums))"
   ]
  },
  {
   "cell_type": "markdown",
   "metadata": {},
   "source": [
    "# Problem 32: Longest Valid Parentheses"
   ]
  },
  {
   "cell_type": "code",
   "execution_count": null,
   "metadata": {},
   "outputs": [],
   "source": [
    "#dynamic Programming\n",
    "s = \")()())\"\n",
    "\n",
    "n=[]"
   ]
  },
  {
   "cell_type": "code",
   "execution_count": 113,
   "metadata": {},
   "outputs": [
    {
     "name": "stdout",
     "output_type": "stream",
     "text": [
      "a\n",
      "a\n",
      "b\n",
      "b\n",
      "a\n",
      "0\n",
      "4\n",
      "0\n"
     ]
    }
   ],
   "source": [
    "#stacks\n",
    "s = \"(())(\"\n",
    "##main problem rn: what if the thing ended with an (\n",
    "n=[-1] ##-1 to account for index 0 \n",
    "temp=0;ans=0;counter=0\n",
    "if s=='':\n",
    "    print(0)\n",
    "for i in range(len(s)):\n",
    "    else:\n",
    "        if ans<(i-n[-1]):\n",
    "            ans=i-n[-1]\n",
    "        n.pop()\n",
    "        n.append(i)\n",
    "        print('c')\n",
    "    if s[i]=='(':\n",
    "        n.append(i)\n",
    "        print('a')\n",
    "    elif s[i]==')' and len(n)>1:\n",
    "        n.pop()\n",
    "        print('b')\n",
    "\n",
    "print(ans)\n",
    "if ans<(i-n[-1]):\n",
    "    ans=i-n[-1]\n",
    "print(i)\n",
    "print(ans)"
   ]
  },
  {
   "cell_type": "markdown",
   "metadata": {},
   "source": [
    "# Problem 35: Search Insert Position (completed) x"
   ]
  },
  {
   "cell_type": "code",
   "execution_count": null,
   "metadata": {},
   "outputs": [],
   "source": [
    "class Solution:\n",
    "    def searchInsert(self, nums: List[int], target: int) -> int:\n",
    "        numlen=len(nums)\n",
    "        for i in range(numlen):\n",
    "            if nums[i]>=target:\n",
    "                return i\n",
    "        return numlen"
   ]
  },
  {
   "cell_type": "markdown",
   "metadata": {},
   "source": [
    "# Problem 41: First Missing Positive (completed) r"
   ]
  },
  {
   "cell_type": "code",
   "execution_count": null,
   "metadata": {},
   "outputs": [],
   "source": [
    "#methods using sort and in\n",
    "class Solution:\n",
    "    def firstMissingPositive(self, nums: List[int]) -> int:\n",
    "        nlen=len(nums)\n",
    "        ans=1\n",
    "        for i in range(nlen):\n",
    "            if ans in nums:\n",
    "                ans+=1\n",
    "            else:\n",
    "                return ans\n",
    "        return ans\n",
    "class Solution:\n",
    "    def firstMissingPositive(self, nums: List[int]) -> int:\n",
    "        nums.sort()\n",
    "        ans=1\n",
    "        for i in range(len(nums)):\n",
    "            if ans==nums[i]:\n",
    "                ans+=1\n",
    "        return ans"
   ]
  },
  {
   "cell_type": "code",
   "execution_count": 81,
   "metadata": {},
   "outputs": [
    {
     "name": "stdout",
     "output_type": "stream",
     "text": [
      "7\n"
     ]
    }
   ],
   "source": [
    "#theoretically O(n) time with Constant space but seems to be slower than .sort/in method above\n",
    "nums=[1,2,6,3,5,4]\n",
    "nums.append(0)\n",
    "nums.append(0)#adding 2 dummies to add a buffer for 0 index and also last index incase whole string matches \n",
    "nlen=len(nums) #this is done to avoid doing len all the time....\n",
    "ans=0\n",
    "\n",
    "if 1 not in nums: #we want to use 1 as invalidation value\n",
    "    ans=1\n",
    "    print(ans)\n",
    "    \n",
    "for i in range(nlen): \n",
    "    if nums[i]>nlen or nums[i]<=0:\n",
    "        nums[i]=1 #real question is can we use neg numbers as invalidation value?\n",
    "#(since ans<len and ans<len-over/under candidates) \n",
    "#set all unfitting candididate = to 1 \n",
    "\n",
    "for j in range(nlen):\n",
    "        nums[abs(nums[j])]=-(abs(nums[abs(nums[j])]))\n",
    "#mark index if an number of equal value exists\n",
    "\n",
    "for k in range(nlen-2): #check which index has yet to be invalidated that isnt 0 or 1 \n",
    "    if nums[k+2]>=0:\n",
    "        ans=k+2\n",
    "        print(ans)\n",
    "        break\n",
    "\n",
    "\n",
    "#there is also the concept that we can quickly eliminate alot of the uncertified numbers that can be automatically invalidated\n",
    "#if they are greater than nlen or 0 or neg"
   ]
  },
  {
   "cell_type": "markdown",
   "metadata": {},
   "source": [
    "# Problem 44: Wildcard Matching (completed) r"
   ]
  },
  {
   "cell_type": "code",
   "execution_count": 2,
   "metadata": {},
   "outputs": [
    {
     "name": "stdout",
     "output_type": "stream",
     "text": [
      "True\n"
     ]
    }
   ],
   "source": [
    "#wayy to similar to problem 10, only difference is that * here no longer needs a host letter and ? directly replaces . \n",
    "#this actually makes the problem simplar\n",
    "#simply tweak a little to adapt for the * change to meet the correct conditions\n",
    "#the difficulty of these problem is recognizing these problem as DP and finding their conditions\n",
    "s='aa'\n",
    "p='*'\n",
    "\n",
    "s=' '+s;p=' '+p\n",
    "m=[]\n",
    "for i in range(len(s)):\n",
    "    m.append([])\n",
    "    for j in range(len(p)):\n",
    "        m[i].append(False) \n",
    "\n",
    "m[0][0]=True\n",
    "for i in range(len(m)):\n",
    "    if i>0 and True not in m[i-1]:\n",
    "        ans=False\n",
    "    for j in range(len(m[0])):\n",
    "        if j!=0:\n",
    "            if m[i-1][j-1] and ((p[j]=='?' and i!=0) or s[i]==p[j]): #base solution without *\n",
    "                m[i][j]= True \n",
    "## same as problem 10\n",
    "\n",
    "            elif p[j]=='*' and (m[i][j-1] or m[i-1][j]):\n",
    "                    m[i][j]=True\n",
    "        \n",
    "## Condition is met when know that it has been matching so far before the *, \n",
    "#### which replaces x* from 10: [i][j-1]=True since there isnt x as spacer\n",
    "## or we still need to keep matching [i-1][j] (no longer need to worry about host letter matching as host is not present)\n",
    "ans=m[-1][-1]\n",
    "print(ans)"
   ]
  },
  {
   "cell_type": "code",
   "execution_count": null,
   "metadata": {},
   "outputs": [],
   "source": [
    "# very fast submission I found 44ms, doesn't seem to be dp but seem to be two parallel pointers with O(n) with linear memory\n",
    "# most likely would not work on P10 as I checked the solution for P10 and most are dp/recursive\n",
    "class Solution:\n",
    "    def isMatch(self, s: str, p: str) -> bool:\n",
    "        slen = len(s)\n",
    "        plen = len(p)\n",
    "\n",
    "        sidx = pidx = 0\n",
    "\n",
    "        stemp_idx = -1\n",
    "        star_idx = -1\n",
    "\n",
    "        while (sidx < slen):\n",
    "            # When chars match\n",
    "            if (pidx < plen) and ((p[pidx] == s[sidx]) or (p[pidx] == '?')):\n",
    "                sidx += 1\n",
    "                pidx += 1\n",
    "## base cases\n",
    "            elif (pidx < plen) and (p[pidx] == '*'):\n",
    "\n",
    "                # * represents 0 string chars\n",
    "                star_idx = pidx #index where star is found\n",
    "                pidx += 1 #current pattern index\n",
    "                stemp_idx = sidx \n",
    "## gets ahead next loop to checks for current index to see if it fits base and if it doesnt, it returns to star mode one index prior\n",
    "## when there is a star, star_idx is a switch representing there be a star\n",
    "            elif star_idx == -1:\n",
    "                # No stars encountered in p\n",
    "                return False\n",
    "## this implies code doesnt match and star and since it doesnt fit in base case, can just return False\n",
    "            else:\n",
    "                pidx = star_idx + 1 #remaining on same ground?\n",
    "                sidx = stemp_idx + 1 #moving forward in s\n",
    "                stemp_idx = sidx\n",
    "\n",
    "        return all(x=='*' for x in p[pidx:])\n",
    "    \n",
    "## This is possible but not in P10 likely because host letter and combination of .* requires greater receptive field\n",
    "## than parallel receptive field, resulting in the requirement for a hash table"
   ]
  },
  {
   "cell_type": "markdown",
   "metadata": {},
   "source": [
    "# Problem 53: Maximum Subarray (completed) x"
   ]
  },
  {
   "cell_type": "code",
   "execution_count": 1,
   "metadata": {},
   "outputs": [],
   "source": [
    "#O(n^2) dp using table without knowledge that neg previous sums are unhelpful\n",
    "#location of max sum sublist naturally stored in the table\n",
    "class Solution:\n",
    "    def maxSubArray(self, nums: List[int]) -> int:\n",
    "        memo=[]\n",
    "        ans=nums[0]\n",
    "        for i in range(len(nums)):\n",
    "            memo.append([]) #creating table\n",
    "            for j in range(len(nums)-i):\n",
    "                if j==0:\n",
    "                    tempsum=nums[i] #base case\n",
    "                else:\n",
    "                    tempsum=memo[i][j-1]+nums[i+j] #adding current # with previous #\n",
    "                memo[i].append(tempsum)\n",
    "                if tempsum>ans:\n",
    "                    ans=tempsum\n",
    "        return ans"
   ]
  },
  {
   "cell_type": "code",
   "execution_count": null,
   "metadata": {},
   "outputs": [],
   "source": [
    "#Naive Bottom up solution observing the fact that negative previous sums are detrimental, >O(n) time\n",
    "class Solution:\n",
    "    def maxSubArray(self, nums: List[int]) -> int:\n",
    "        j=0;ans=nums[0]\n",
    "        memo=[]\n",
    "        for i in range(len(nums)):\n",
    "            temp=sum(nums[j:i+1]) #check current sum without memoization\n",
    "            if temp<0: \n",
    "                j=i+1  ##abandoning sum for next loop if neg (prev sum for next i)\n",
    "            if temp>ans:\n",
    "                ans=temp\n",
    "        return ans"
   ]
  },
  {
   "cell_type": "code",
   "execution_count": null,
   "metadata": {},
   "outputs": [],
   "source": [
    "#True O(n) dp of naive solution\n",
    "#goal is to find  finding the maximum sum ending at each index and memoize max sum\n",
    "#more pointers are needed if need to find exact sublist\n",
    "\n",
    "class Solution:\n",
    "    def maxSubArray(self, nums: List[int]) -> int:\n",
    "        #j=0;k=0 #pointers\n",
    "        ans=nums[0]\n",
    "        memo=[nums[0]] #memo records max sum for each i position\n",
    "        for i in range(len(nums)):\n",
    "            if i>0:\n",
    "                if memo[i-1]<0:\n",
    "                    memo.append(max(nums[i],memo[i-1]+nums[i])) ##abandoning previous sum if neg\n",
    "                    #j=i #pointer update\n",
    "                else:\n",
    "                    memo.append(memo[i-1]+nums[i]) #max sum is prev max sum + current# if prev max sum is pos\n",
    "            if memo[i]>ans:\n",
    "                ans=memo[i]\n",
    "                #k=i #pointer update 2\n",
    "        return ans #,nums[j:k+1]\n",
    "    \n",
    "    \n",
    "#alternative: use memo.append(max(nums[i],memo[i-1]+nums[i])) instead of line12-16"
   ]
  },
  {
   "cell_type": "markdown",
   "metadata": {},
   "source": [
    "# Problem 58: Length of Last Word (completed) x"
   ]
  },
  {
   "cell_type": "code",
   "execution_count": null,
   "metadata": {},
   "outputs": [],
   "source": [
    "class Solution:\n",
    "    def lengthOfLastWord(self, s: str) -> int:\n",
    "        s=s.strip() #strip spaces\n",
    "        if len(s)<1: #base cases of all spaces\n",
    "            return 0\n",
    "        for i in range(len(s)): #loop start\n",
    "            j=len(s)-i-1 #start loop from the end since we are looking for lat word (note that len(s)-1 is the actual last index)\n",
    "            if s[j-1]==' ': #stops loop if next letter is space so we get consistent i regardless if the whole string is the last word or not\n",
    "                break\n",
    "        return i+1 #since i starts at 0, need to recalibrate"
   ]
  },
  {
   "cell_type": "markdown",
   "metadata": {},
   "source": [
    "# Problem 66: Plus One (completed) x"
   ]
  },
  {
   "cell_type": "code",
   "execution_count": null,
   "metadata": {},
   "outputs": [],
   "source": [
    "class Solution:\n",
    "    def plusOne(self, digits: List[int]) -> List[int]:\n",
    "        digits[-1]+=+1\n",
    "        for i in range(len(digits)):\n",
    "            if digits[-(i+1)]>9:\n",
    "                digits[-(i+1)]=digits[-(i+1)]%10\n",
    "                try:\n",
    "                    digits[-(i+2)]+=1\n",
    "                except:\n",
    "                    digits.insert(0,1)\n",
    "        return digits"
   ]
  },
  {
   "cell_type": "markdown",
   "metadata": {},
   "source": [
    "# Problem 67: Add Binary (completed) r"
   ]
  },
  {
   "cell_type": "code",
   "execution_count": 36,
   "metadata": {},
   "outputs": [
    {
     "name": "stdout",
     "output_type": "stream",
     "text": [
      "10\n"
     ]
    }
   ],
   "source": [
    "#i first attempted to directly manipulate numbers using c%10 and c/10 \n",
    "#but then found chaos when the input c is of size e99\n",
    "#due to how numbers are stored, they go odd when there is mutip or division if number has too much digits\n",
    "#hence must work in string\n",
    "#similar to the roman numeral problem\n",
    "a = \"01\"\n",
    "b = \"1\"\n",
    "an=int(a);bn=int(b);cn=an+bn;c='0'+str(cn)\n",
    "ans='';lc=len(c);sa=False\n",
    "for i in range(lc):\n",
    "    if sa:\n",
    "        ci=int(c[lc-i-1])+1\n",
    "        c=c[:lc-i-1]+str(ci)+c[lc-i:]\n",
    "\n",
    "    if c[lc-i-1]=='3':\n",
    "        ans='1'+ans\n",
    "        sa=True\n",
    "    elif c[lc-i-1]=='2':\n",
    "        ans='0'+ans\n",
    "        sa=True\n",
    "    elif c[lc-i-1]=='1':\n",
    "        ans='1'+ans\n",
    "        sa=False\n",
    "    elif c[lc-i-1]=='0':\n",
    "        ans='0'+ans\n",
    "        sa=False\n",
    "ans=str(int(ans))\n",
    "print(ans)"
   ]
  },
  {
   "cell_type": "markdown",
   "metadata": {},
   "source": [
    "# Problem 167: Two Sum II - Input array is sorted (completed) x"
   ]
  },
  {
   "cell_type": "code",
   "execution_count": null,
   "metadata": {},
   "outputs": [],
   "source": [
    "### SOLUTION 1: OLD SOLUTION from TWO SUM I ### DICTIONARY METHOD ###\n",
    "class Solution:\n",
    "    def twoSum(self, nums: List[int], target: int) -> List[int]:\n",
    "        dictionary={} #initiating dictionary\n",
    "        results=[]\n",
    "        for i in range(len(nums)):\n",
    "            dictionary.update({i:nums[i]}) #making dictionary\n",
    "            a=target-nums[i] #finding target value for each number\n",
    "            keys=list(dictionary.keys()) #seperating the dict key and value but share index\n",
    "            values=list(dictionary.values())\n",
    "            \n",
    "            if a in dictionary.values():\n",
    "                indexa=i\n",
    "                indexb=keys[values.index(a)] #obtaining keys based on index for value == a\n",
    "                if indexa!=indexb:\n",
    "                    results=[indexa+1,indexb+1] #assigning results so that it could be sorted\n",
    "                    results.sort() #sorting the result so it follows the same order as expectation\n",
    "                    return results\n"
   ]
  },
  {
   "cell_type": "code",
   "execution_count": 4,
   "metadata": {},
   "outputs": [
    {
     "name": "stdout",
     "output_type": "stream",
     "text": [
      "[1, 2]\n"
     ]
    }
   ],
   "source": [
    "### PROPER SOLUTION ### SORTED APPROACH ###\n",
    "nums= [-3,2,7,11,12,15]\n",
    "target = 9\n",
    "s_a=0\n",
    "a=0;b=len(nums)-1\n",
    "while s_a==0:\n",
    "    x=nums[a]\n",
    "    y=nums[b]\n",
    "    if x+y> target: ## IF X+Y IS BIGGER, SINCE THE NUMBERS ARE ARRANGED, THE ONLY WAY TO GET THE SUM SMALLER IS TO MOVE Y\n",
    "        b-=1\n",
    "    elif x+y< target: ### IF SUM IS SMALLER, SINCE NUMBS ARE ARRANGED, TO GET SUM BIGGER IS TO MOVE X TO BIGGER NUMS\n",
    "        a+=1\n",
    "    else: ## EVENTUALLY IT WILL SCOPE DOWN\n",
    "        s_a=1\n",
    "        print([a+1,b+1])"
   ]
  }
 ],
 "metadata": {
  "kernelspec": {
   "display_name": "Python 3",
   "language": "python",
   "name": "python3"
  },
  "language_info": {
   "codemirror_mode": {
    "name": "ipython",
    "version": 3
   },
   "file_extension": ".py",
   "mimetype": "text/x-python",
   "name": "python",
   "nbconvert_exporter": "python",
   "pygments_lexer": "ipython3",
   "version": "3.7.4"
  }
 },
 "nbformat": 4,
 "nbformat_minor": 2
}
